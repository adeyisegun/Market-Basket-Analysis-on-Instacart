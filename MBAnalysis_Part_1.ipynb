{
 "cells": [
  {
   "cell_type": "markdown",
   "metadata": {
    "id": "aBbhYlTCZ7p9"
   },
   "source": [
    "# 1. Introduction\n",
    "Instacart is a platform that allows customers to order groceries from participating retailers with the shopping being done by a personal shopper. Instacart has provided an anonymized dataset comprising of activities of shoppers in 2017. "
   ]
  },
  {
   "cell_type": "markdown",
   "metadata": {
    "id": "DYCmxa75buxK"
   },
   "source": [
    "## 1.1 Objective of Project\n",
    "\n",
    "\n",
    "*   Create a detailed analysis of the dataset created by Instacart.\n",
    "*   Using association rule mining, find out the associations among products in the dataset and offer advise on how your findings can be applied.\n",
    "\n"
   ]
  },
  {
   "cell_type": "markdown",
   "metadata": {
    "id": "jcxLmxE43F_N"
   },
   "source": [
    "# 2. Dataset Preparation"
   ]
  },
  {
   "cell_type": "markdown",
   "metadata": {
    "id": "NPXPgAppE80l"
   },
   "source": [
    "## 2.1 Data Source\n",
    "The dataset  was released by Instacart in 2017. It contains over 3 million anonymized grocery orders from more than 200,000 Instacart users. This analysis will make use of this datasets.\n",
    "\n",
    "Data source can be downloaded here: https://www.kaggle.com/c/instacart-market-basket-analysis/data"
   ]
  },
  {
   "cell_type": "markdown",
   "metadata": {
    "id": "ZSfit4aB3oO5"
   },
   "source": [
    "## 2.2 Libraries Used\n",
    "These are the R libraries used:"
   ]
  },
  {
   "cell_type": "code",
   "execution_count": 3,
   "metadata": {
    "id": "0JY4uX61yZeb"
   },
   "outputs": [],
   "source": [
    "library(dplyr) # used for data manipulation\n",
    "library(ggplot2) # used for data visualization\n",
    "library(repr)    # for adjusting graph size"
   ]
  },
  {
   "cell_type": "markdown",
   "metadata": {
    "id": "snGwqTRl4-xZ"
   },
   "source": [
    "## 2.3 Import Datasets"
   ]
  },
  {
   "cell_type": "code",
   "execution_count": 4,
   "metadata": {
    "id": "6QwVnmDB0T_X"
   },
   "outputs": [],
   "source": [
    "aisles <- read.csv('aisles.csv')\n",
    "dept <- read.csv('departments.csv')\n",
    "order_pr_train <- read.csv('order_products__train.csv')\n",
    "order_pr_prior <- read.csv('order_products__prior.csv')\n",
    "products <- read.csv('products.csv')\n",
    "orders <- read.csv('orders.csv')"
   ]
  },
  {
   "cell_type": "markdown",
   "metadata": {
    "id": "Lx3wPfyPG3SS"
   },
   "source": [
    "## 2.4 Data Dictionary\n",
    "The dataset is a relational set of files describing customers’ orders over time. They are anonymized and contains a sample of over 3 million grocery orders from more than 200,000 Instacart users. For each user, Instacart provided between 4 and 100 of their orders, with the sequence of products purchased in each order, the week and hour of day the order was placed, and a relative measure of time between orders. Total six datasets were imported.\n",
    "\n",
    "orders (3.4m rows, 206k users):\n",
    "\n",
    "*   order_id: order identifier\n",
    "*   user_id: customer identifier\n",
    "*   eval_set: which evaluation set this order belongs in (see SET described below)\n",
    "*   order_number: the order sequence number for this user (1 = first, n = nth)\n",
    "*   order_dow: the day of the week the order was placed on\n",
    "*   order_hour_of_day: the hour of the day the order was placed on\n",
    "*   days_since_prior: days since the last order, capped at 30 (with NAs for order_number = 1)\n",
    "\n",
    "products (50k rows):\n",
    "\n",
    "*   product_id: product identifier\n",
    "*   product_name: name of the product\n",
    "*   aisle_id: foreign key\n",
    "*   department_id: foreign key\n",
    "\n",
    "aisles (134 rows):\n",
    "\n",
    "*   aisle_id: aisle identifier\n",
    "*   aisle: the name of the aisle\n",
    "\n",
    "deptartments (21 rows):\n",
    "\n",
    "*   department_id: department identifier\n",
    "*   department: the name of the department\n",
    "\n",
    "order_products__SET (30m+ rows):\n",
    "*   order_id: foreign key\n",
    "*   product_id: foreign key\n",
    "*   add_to_cart_order: order in which each product was added to cart\n",
    "*   reordered: 1 if this product has been ordered by this user in the past, 0 otherwise\n",
    "\n",
    "where SET is one of the four following evaluation sets (eval_set in orders):\n",
    "\n",
    "*   \"prior\": orders prior to that users most recent order (~3.2m orders)\n",
    "\n",
    "*   \"train\": training data supplied to participants (~131k orders)\n",
    "*   \"test\": test data reserved for machine learning competitions (~75k orders)\n",
    "\n",
    "\n",
    "\n",
    "\n",
    "\n",
    "\n",
    "\n",
    "\n",
    "\n",
    "\n",
    "\n",
    "\n",
    "\n",
    "\n",
    "\n",
    "\n",
    "\n",
    "\n",
    "\n",
    "\n",
    "\n",
    "\n",
    "\n",
    "\n",
    "\n",
    "\n",
    "\n",
    "\n",
    "\n",
    "\n",
    "\n",
    "\n"
   ]
  },
  {
   "cell_type": "markdown",
   "metadata": {
    "id": "nw0HKrHUKrfK"
   },
   "source": [
    "## 2.5 Understanding Datasets"
   ]
  },
  {
   "cell_type": "markdown",
   "metadata": {
    "id": "3yB_Pf6_Kzec"
   },
   "source": [
    "### 2.5.1 Aisles"
   ]
  },
  {
   "cell_type": "code",
   "execution_count": 5,
   "metadata": {
    "colab": {
     "base_uri": "https://localhost:8080/",
     "height": 34
    },
    "id": "JWDmuw68K9W9",
    "outputId": "f0c0091e-8f02-46ea-ad18-701e13ab5df6"
   },
   "outputs": [
    {
     "data": {
      "text/html": [
       "<style>\n",
       ".list-inline {list-style: none; margin:0; padding: 0}\n",
       ".list-inline>li {display: inline-block}\n",
       ".list-inline>li:not(:last-child)::after {content: \"\\00b7\"; padding: 0 .5ex}\n",
       "</style>\n",
       "<ol class=list-inline><li>134</li><li>2</li></ol>\n"
      ],
      "text/latex": [
       "\\begin{enumerate*}\n",
       "\\item 134\n",
       "\\item 2\n",
       "\\end{enumerate*}\n"
      ],
      "text/markdown": [
       "1. 134\n",
       "2. 2\n",
       "\n",
       "\n"
      ],
      "text/plain": [
       "[1] 134   2"
      ]
     },
     "metadata": {
      "tags": []
     },
     "output_type": "display_data"
    }
   ],
   "source": [
    "dim(aisles) ## No of records"
   ]
  },
  {
   "cell_type": "markdown",
   "metadata": {
    "id": "p08l2VwkSa_X"
   },
   "source": [
    "There are 134 aisles."
   ]
  },
  {
   "cell_type": "code",
   "execution_count": 6,
   "metadata": {
    "colab": {
     "base_uri": "https://localhost:8080/"
    },
    "id": "Syh6g4UmLLTR",
    "outputId": "5ce58791-133f-4732-f633-652790132009"
   },
   "outputs": [
    {
     "name": "stdout",
     "output_type": "stream",
     "text": [
      "'data.frame':\t134 obs. of  2 variables:\n",
      " $ aisle_id: int  1 2 3 4 5 6 7 8 9 10 ...\n",
      " $ aisle   : chr  \"prepared soups salads\" \"specialty cheeses\" \"energy granola bars\" \"instant foods\" ...\n"
     ]
    }
   ],
   "source": [
    "str(aisles) # structure of dataset"
   ]
  },
  {
   "cell_type": "code",
   "execution_count": 7,
   "metadata": {
    "colab": {
     "base_uri": "https://localhost:8080/"
    },
    "id": "4VSE98dYLYUR",
    "outputId": "331416fb-9667-402f-dbe6-76992fde9d4c"
   },
   "outputs": [
    {
     "name": "stdout",
     "output_type": "stream",
     "text": [
      " Factor w/ 134 levels \"air fresheners candles\",..: 107 121 43 75 82 92 95 6 101 77 ...\n"
     ]
    }
   ],
   "source": [
    "aisles$aisle <- as.factor(aisles$aisle) # convert to factor\n",
    "str(aisles$aisle)"
   ]
  },
  {
   "cell_type": "code",
   "execution_count": 8,
   "metadata": {
    "colab": {
     "base_uri": "https://localhost:8080/",
     "height": 283
    },
    "id": "jej528lmyoo-",
    "outputId": "d37e34df-26b5-4db5-ae6b-5281fbdef3da"
   },
   "outputs": [
    {
     "data": {
      "text/html": [
       "<table class=\"dataframe\">\n",
       "<caption>A data.frame: 6 × 2</caption>\n",
       "<thead>\n",
       "\t<tr><th></th><th scope=col>aisle_id</th><th scope=col>aisle</th></tr>\n",
       "\t<tr><th></th><th scope=col>&lt;int&gt;</th><th scope=col>&lt;fct&gt;</th></tr>\n",
       "</thead>\n",
       "<tbody>\n",
       "\t<tr><th scope=row>1</th><td>1</td><td>prepared soups salads     </td></tr>\n",
       "\t<tr><th scope=row>2</th><td>2</td><td>specialty cheeses         </td></tr>\n",
       "\t<tr><th scope=row>3</th><td>3</td><td>energy granola bars       </td></tr>\n",
       "\t<tr><th scope=row>4</th><td>4</td><td>instant foods             </td></tr>\n",
       "\t<tr><th scope=row>5</th><td>5</td><td>marinades meat preparation</td></tr>\n",
       "\t<tr><th scope=row>6</th><td>6</td><td>other                     </td></tr>\n",
       "</tbody>\n",
       "</table>\n"
      ],
      "text/latex": [
       "A data.frame: 6 × 2\n",
       "\\begin{tabular}{r|ll}\n",
       "  & aisle\\_id & aisle\\\\\n",
       "  & <int> & <fct>\\\\\n",
       "\\hline\n",
       "\t1 & 1 & prepared soups salads     \\\\\n",
       "\t2 & 2 & specialty cheeses         \\\\\n",
       "\t3 & 3 & energy granola bars       \\\\\n",
       "\t4 & 4 & instant foods             \\\\\n",
       "\t5 & 5 & marinades meat preparation\\\\\n",
       "\t6 & 6 & other                     \\\\\n",
       "\\end{tabular}\n"
      ],
      "text/markdown": [
       "\n",
       "A data.frame: 6 × 2\n",
       "\n",
       "| <!--/--> | aisle_id &lt;int&gt; | aisle &lt;fct&gt; |\n",
       "|---|---|---|\n",
       "| 1 | 1 | prepared soups salads      |\n",
       "| 2 | 2 | specialty cheeses          |\n",
       "| 3 | 3 | energy granola bars        |\n",
       "| 4 | 4 | instant foods              |\n",
       "| 5 | 5 | marinades meat preparation |\n",
       "| 6 | 6 | other                      |\n",
       "\n"
      ],
      "text/plain": [
       "  aisle_id aisle                     \n",
       "1 1        prepared soups salads     \n",
       "2 2        specialty cheeses         \n",
       "3 3        energy granola bars       \n",
       "4 4        instant foods             \n",
       "5 5        marinades meat preparation\n",
       "6 6        other                     "
      ]
     },
     "metadata": {
      "tags": []
     },
     "output_type": "display_data"
    }
   ],
   "source": [
    "head(aisles) #first 6 records"
   ]
  },
  {
   "cell_type": "code",
   "execution_count": 9,
   "metadata": {
    "colab": {
     "base_uri": "https://localhost:8080/",
     "height": 34
    },
    "id": "oRnmHWeq0rjg",
    "outputId": "75e872dc-d95f-4011-ec2a-44e1130dc8ed"
   },
   "outputs": [
    {
     "data": {
      "text/html": [
       "0"
      ],
      "text/latex": [
       "0"
      ],
      "text/markdown": [
       "0"
      ],
      "text/plain": [
       "[1] 0"
      ]
     },
     "metadata": {
      "tags": []
     },
     "output_type": "display_data"
    }
   ],
   "source": [
    "sum(is.na(aisles)) #Check for missing values"
   ]
  },
  {
   "cell_type": "markdown",
   "metadata": {
    "id": "O3u-3ZRmNWvX"
   },
   "source": [
    "### 2.5.2 Departments"
   ]
  },
  {
   "cell_type": "code",
   "execution_count": 10,
   "metadata": {
    "colab": {
     "base_uri": "https://localhost:8080/",
     "height": 34
    },
    "id": "V9xZoL_pLzLC",
    "outputId": "25f15285-0167-4d21-d5f7-e35304020b6e"
   },
   "outputs": [
    {
     "data": {
      "text/html": [
       "<style>\n",
       ".list-inline {list-style: none; margin:0; padding: 0}\n",
       ".list-inline>li {display: inline-block}\n",
       ".list-inline>li:not(:last-child)::after {content: \"\\00b7\"; padding: 0 .5ex}\n",
       "</style>\n",
       "<ol class=list-inline><li>21</li><li>2</li></ol>\n"
      ],
      "text/latex": [
       "\\begin{enumerate*}\n",
       "\\item 21\n",
       "\\item 2\n",
       "\\end{enumerate*}\n"
      ],
      "text/markdown": [
       "1. 21\n",
       "2. 2\n",
       "\n",
       "\n"
      ],
      "text/plain": [
       "[1] 21  2"
      ]
     },
     "metadata": {
      "tags": []
     },
     "output_type": "display_data"
    }
   ],
   "source": [
    "dim(dept) # number of records"
   ]
  },
  {
   "cell_type": "markdown",
   "metadata": {
    "id": "AQTjWmC5Sgv4"
   },
   "source": [
    "There are 21 departments."
   ]
  },
  {
   "cell_type": "code",
   "execution_count": 11,
   "metadata": {
    "colab": {
     "base_uri": "https://localhost:8080/"
    },
    "id": "Y7S-Q0EaNe9X",
    "outputId": "73cdd1da-c430-485a-9860-3f973db59fda"
   },
   "outputs": [
    {
     "name": "stdout",
     "output_type": "stream",
     "text": [
      "'data.frame':\t21 obs. of  2 variables:\n",
      " $ department_id: int  1 2 3 4 5 6 7 8 9 10 ...\n",
      " $ department   : chr  \"frozen\" \"other\" \"bakery\" \"produce\" ...\n"
     ]
    }
   ],
   "source": [
    "str(dept) #structure of dataset"
   ]
  },
  {
   "cell_type": "code",
   "execution_count": 12,
   "metadata": {
    "colab": {
     "base_uri": "https://localhost:8080/"
    },
    "id": "jh5CjfZoNipT",
    "outputId": "8814fbdd-c18d-4285-e0d3-7d8f83113316"
   },
   "outputs": [
    {
     "name": "stdout",
     "output_type": "stream",
     "text": [
      " Factor w/ 21 levels \"alcohol\",\"babies\",..: 11 16 3 20 1 13 4 19 10 6 ...\n"
     ]
    }
   ],
   "source": [
    "dept$department <- as.factor(dept$department) # convert to factor\n",
    "str(dept$department)"
   ]
  },
  {
   "cell_type": "code",
   "execution_count": 13,
   "metadata": {
    "colab": {
     "base_uri": "https://localhost:8080/",
     "height": 283
    },
    "id": "4lG6508oNvtx",
    "outputId": "d26e492c-cbd9-4bec-e27a-d8b2321fc4cb"
   },
   "outputs": [
    {
     "data": {
      "text/html": [
       "<table class=\"dataframe\">\n",
       "<caption>A data.frame: 6 × 2</caption>\n",
       "<thead>\n",
       "\t<tr><th></th><th scope=col>department_id</th><th scope=col>department</th></tr>\n",
       "\t<tr><th></th><th scope=col>&lt;int&gt;</th><th scope=col>&lt;fct&gt;</th></tr>\n",
       "</thead>\n",
       "<tbody>\n",
       "\t<tr><th scope=row>1</th><td>1</td><td>frozen       </td></tr>\n",
       "\t<tr><th scope=row>2</th><td>2</td><td>other        </td></tr>\n",
       "\t<tr><th scope=row>3</th><td>3</td><td>bakery       </td></tr>\n",
       "\t<tr><th scope=row>4</th><td>4</td><td>produce      </td></tr>\n",
       "\t<tr><th scope=row>5</th><td>5</td><td>alcohol      </td></tr>\n",
       "\t<tr><th scope=row>6</th><td>6</td><td>international</td></tr>\n",
       "</tbody>\n",
       "</table>\n"
      ],
      "text/latex": [
       "A data.frame: 6 × 2\n",
       "\\begin{tabular}{r|ll}\n",
       "  & department\\_id & department\\\\\n",
       "  & <int> & <fct>\\\\\n",
       "\\hline\n",
       "\t1 & 1 & frozen       \\\\\n",
       "\t2 & 2 & other        \\\\\n",
       "\t3 & 3 & bakery       \\\\\n",
       "\t4 & 4 & produce      \\\\\n",
       "\t5 & 5 & alcohol      \\\\\n",
       "\t6 & 6 & international\\\\\n",
       "\\end{tabular}\n"
      ],
      "text/markdown": [
       "\n",
       "A data.frame: 6 × 2\n",
       "\n",
       "| <!--/--> | department_id &lt;int&gt; | department &lt;fct&gt; |\n",
       "|---|---|---|\n",
       "| 1 | 1 | frozen        |\n",
       "| 2 | 2 | other         |\n",
       "| 3 | 3 | bakery        |\n",
       "| 4 | 4 | produce       |\n",
       "| 5 | 5 | alcohol       |\n",
       "| 6 | 6 | international |\n",
       "\n"
      ],
      "text/plain": [
       "  department_id department   \n",
       "1 1             frozen       \n",
       "2 2             other        \n",
       "3 3             bakery       \n",
       "4 4             produce      \n",
       "5 5             alcohol      \n",
       "6 6             international"
      ]
     },
     "metadata": {
      "tags": []
     },
     "output_type": "display_data"
    }
   ],
   "source": [
    "head(dept) #first 6 records"
   ]
  },
  {
   "cell_type": "code",
   "execution_count": 14,
   "metadata": {
    "colab": {
     "base_uri": "https://localhost:8080/",
     "height": 34
    },
    "id": "07f4i_P0N04h",
    "outputId": "5aecb5dd-e850-4548-ed1a-c645275ec624"
   },
   "outputs": [
    {
     "data": {
      "text/html": [
       "0"
      ],
      "text/latex": [
       "0"
      ],
      "text/markdown": [
       "0"
      ],
      "text/plain": [
       "[1] 0"
      ]
     },
     "metadata": {
      "tags": []
     },
     "output_type": "display_data"
    }
   ],
   "source": [
    "sum(is.na(dept)) #Check for missing values"
   ]
  },
  {
   "cell_type": "markdown",
   "metadata": {
    "id": "sqSsD1q8N_gl"
   },
   "source": [
    "### 2.5.3 Ordered Products(Train)"
   ]
  },
  {
   "cell_type": "code",
   "execution_count": 15,
   "metadata": {
    "colab": {
     "base_uri": "https://localhost:8080/",
     "height": 34
    },
    "id": "JLf7I1Y8N5P9",
    "outputId": "8fe8738f-3255-4e7b-8cee-23efa61d6479"
   },
   "outputs": [
    {
     "data": {
      "text/html": [
       "<style>\n",
       ".list-inline {list-style: none; margin:0; padding: 0}\n",
       ".list-inline>li {display: inline-block}\n",
       ".list-inline>li:not(:last-child)::after {content: \"\\00b7\"; padding: 0 .5ex}\n",
       "</style>\n",
       "<ol class=list-inline><li>1384617</li><li>4</li></ol>\n"
      ],
      "text/latex": [
       "\\begin{enumerate*}\n",
       "\\item 1384617\n",
       "\\item 4\n",
       "\\end{enumerate*}\n"
      ],
      "text/markdown": [
       "1. 1384617\n",
       "2. 4\n",
       "\n",
       "\n"
      ],
      "text/plain": [
       "[1] 1384617       4"
      ]
     },
     "metadata": {
      "tags": []
     },
     "output_type": "display_data"
    }
   ],
   "source": [
    "dim(order_pr_train) # number of records"
   ]
  },
  {
   "cell_type": "markdown",
   "metadata": {
    "id": "jwVjq6zBSp9I"
   },
   "source": [
    "Approximately 1.38 million records."
   ]
  },
  {
   "cell_type": "code",
   "execution_count": 16,
   "metadata": {
    "colab": {
     "base_uri": "https://localhost:8080/"
    },
    "id": "KedXTpCJOWGF",
    "outputId": "307c3f5d-0432-4371-d80d-803710f875b2"
   },
   "outputs": [
    {
     "name": "stdout",
     "output_type": "stream",
     "text": [
      "'data.frame':\t1384617 obs. of  4 variables:\n",
      " $ order_id         : int  1 1 1 1 1 1 1 1 36 36 ...\n",
      " $ product_id       : int  49302 11109 10246 49683 43633 13176 47209 22035 39612 19660 ...\n",
      " $ add_to_cart_order: int  1 2 3 4 5 6 7 8 1 2 ...\n",
      " $ reordered        : int  1 1 0 0 1 0 0 1 0 1 ...\n"
     ]
    }
   ],
   "source": [
    "str(order_pr_train) #structure of dataset"
   ]
  },
  {
   "cell_type": "code",
   "execution_count": 17,
   "metadata": {
    "colab": {
     "base_uri": "https://localhost:8080/",
     "height": 283
    },
    "id": "pyJCZ71yOd8q",
    "outputId": "f38e73e8-5159-4e51-ebe3-3351f6160968"
   },
   "outputs": [
    {
     "data": {
      "text/html": [
       "<table class=\"dataframe\">\n",
       "<caption>A data.frame: 6 × 4</caption>\n",
       "<thead>\n",
       "\t<tr><th></th><th scope=col>order_id</th><th scope=col>product_id</th><th scope=col>add_to_cart_order</th><th scope=col>reordered</th></tr>\n",
       "\t<tr><th></th><th scope=col>&lt;int&gt;</th><th scope=col>&lt;int&gt;</th><th scope=col>&lt;int&gt;</th><th scope=col>&lt;int&gt;</th></tr>\n",
       "</thead>\n",
       "<tbody>\n",
       "\t<tr><th scope=row>1</th><td>1</td><td>49302</td><td>1</td><td>1</td></tr>\n",
       "\t<tr><th scope=row>2</th><td>1</td><td>11109</td><td>2</td><td>1</td></tr>\n",
       "\t<tr><th scope=row>3</th><td>1</td><td>10246</td><td>3</td><td>0</td></tr>\n",
       "\t<tr><th scope=row>4</th><td>1</td><td>49683</td><td>4</td><td>0</td></tr>\n",
       "\t<tr><th scope=row>5</th><td>1</td><td>43633</td><td>5</td><td>1</td></tr>\n",
       "\t<tr><th scope=row>6</th><td>1</td><td>13176</td><td>6</td><td>0</td></tr>\n",
       "</tbody>\n",
       "</table>\n"
      ],
      "text/latex": [
       "A data.frame: 6 × 4\n",
       "\\begin{tabular}{r|llll}\n",
       "  & order\\_id & product\\_id & add\\_to\\_cart\\_order & reordered\\\\\n",
       "  & <int> & <int> & <int> & <int>\\\\\n",
       "\\hline\n",
       "\t1 & 1 & 49302 & 1 & 1\\\\\n",
       "\t2 & 1 & 11109 & 2 & 1\\\\\n",
       "\t3 & 1 & 10246 & 3 & 0\\\\\n",
       "\t4 & 1 & 49683 & 4 & 0\\\\\n",
       "\t5 & 1 & 43633 & 5 & 1\\\\\n",
       "\t6 & 1 & 13176 & 6 & 0\\\\\n",
       "\\end{tabular}\n"
      ],
      "text/markdown": [
       "\n",
       "A data.frame: 6 × 4\n",
       "\n",
       "| <!--/--> | order_id &lt;int&gt; | product_id &lt;int&gt; | add_to_cart_order &lt;int&gt; | reordered &lt;int&gt; |\n",
       "|---|---|---|---|---|\n",
       "| 1 | 1 | 49302 | 1 | 1 |\n",
       "| 2 | 1 | 11109 | 2 | 1 |\n",
       "| 3 | 1 | 10246 | 3 | 0 |\n",
       "| 4 | 1 | 49683 | 4 | 0 |\n",
       "| 5 | 1 | 43633 | 5 | 1 |\n",
       "| 6 | 1 | 13176 | 6 | 0 |\n",
       "\n"
      ],
      "text/plain": [
       "  order_id product_id add_to_cart_order reordered\n",
       "1 1        49302      1                 1        \n",
       "2 1        11109      2                 1        \n",
       "3 1        10246      3                 0        \n",
       "4 1        49683      4                 0        \n",
       "5 1        43633      5                 1        \n",
       "6 1        13176      6                 0        "
      ]
     },
     "metadata": {
      "tags": []
     },
     "output_type": "display_data"
    }
   ],
   "source": [
    "head(order_pr_train) #first 6 records"
   ]
  },
  {
   "cell_type": "code",
   "execution_count": 18,
   "metadata": {
    "colab": {
     "base_uri": "https://localhost:8080/",
     "height": 34
    },
    "id": "GiApikyKOiBp",
    "outputId": "dbab754f-343d-4fb6-c389-a5a297eda0f3"
   },
   "outputs": [
    {
     "data": {
      "text/html": [
       "0"
      ],
      "text/latex": [
       "0"
      ],
      "text/markdown": [
       "0"
      ],
      "text/plain": [
       "[1] 0"
      ]
     },
     "metadata": {
      "tags": []
     },
     "output_type": "display_data"
    }
   ],
   "source": [
    "sum(is.na(order_pr_train)) #Check for missing values"
   ]
  },
  {
   "cell_type": "markdown",
   "metadata": {
    "id": "aizqfqxmOnQg"
   },
   "source": [
    "### 2.5.4 Ordered Products(Prior)"
   ]
  },
  {
   "cell_type": "code",
   "execution_count": 19,
   "metadata": {
    "colab": {
     "base_uri": "https://localhost:8080/",
     "height": 34
    },
    "id": "umbBE5GQOlGW",
    "outputId": "e1f0f3e0-d363-4940-881b-163eb4bd8985"
   },
   "outputs": [
    {
     "data": {
      "text/html": [
       "<style>\n",
       ".list-inline {list-style: none; margin:0; padding: 0}\n",
       ".list-inline>li {display: inline-block}\n",
       ".list-inline>li:not(:last-child)::after {content: \"\\00b7\"; padding: 0 .5ex}\n",
       "</style>\n",
       "<ol class=list-inline><li>32434489</li><li>4</li></ol>\n"
      ],
      "text/latex": [
       "\\begin{enumerate*}\n",
       "\\item 32434489\n",
       "\\item 4\n",
       "\\end{enumerate*}\n"
      ],
      "text/markdown": [
       "1. 32434489\n",
       "2. 4\n",
       "\n",
       "\n"
      ],
      "text/plain": [
       "[1] 32434489        4"
      ]
     },
     "metadata": {
      "tags": []
     },
     "output_type": "display_data"
    }
   ],
   "source": [
    "dim(order_pr_prior) # number of records"
   ]
  },
  {
   "cell_type": "markdown",
   "metadata": {
    "id": "Wshs2mQvS8ET"
   },
   "source": [
    "Approximately 32 million records."
   ]
  },
  {
   "cell_type": "code",
   "execution_count": 20,
   "metadata": {
    "colab": {
     "base_uri": "https://localhost:8080/"
    },
    "id": "UE1lFe_DO_Md",
    "outputId": "566079fd-6705-4d40-f4d7-d326bb283fae"
   },
   "outputs": [
    {
     "name": "stdout",
     "output_type": "stream",
     "text": [
      "'data.frame':\t32434489 obs. of  4 variables:\n",
      " $ order_id         : int  2 2 2 2 2 2 2 2 2 3 ...\n",
      " $ product_id       : int  33120 28985 9327 45918 30035 17794 40141 1819 43668 33754 ...\n",
      " $ add_to_cart_order: int  1 2 3 4 5 6 7 8 9 1 ...\n",
      " $ reordered        : int  1 1 0 1 0 1 1 1 0 1 ...\n"
     ]
    }
   ],
   "source": [
    "str(order_pr_prior) #structure of dataset"
   ]
  },
  {
   "cell_type": "code",
   "execution_count": 21,
   "metadata": {
    "colab": {
     "base_uri": "https://localhost:8080/",
     "height": 283
    },
    "id": "BsPgZt15PHup",
    "outputId": "b26fde57-105d-4551-8592-d1dc35e633a2"
   },
   "outputs": [
    {
     "data": {
      "text/html": [
       "<table class=\"dataframe\">\n",
       "<caption>A data.frame: 6 × 4</caption>\n",
       "<thead>\n",
       "\t<tr><th></th><th scope=col>order_id</th><th scope=col>product_id</th><th scope=col>add_to_cart_order</th><th scope=col>reordered</th></tr>\n",
       "\t<tr><th></th><th scope=col>&lt;int&gt;</th><th scope=col>&lt;int&gt;</th><th scope=col>&lt;int&gt;</th><th scope=col>&lt;int&gt;</th></tr>\n",
       "</thead>\n",
       "<tbody>\n",
       "\t<tr><th scope=row>1</th><td>2</td><td>33120</td><td>1</td><td>1</td></tr>\n",
       "\t<tr><th scope=row>2</th><td>2</td><td>28985</td><td>2</td><td>1</td></tr>\n",
       "\t<tr><th scope=row>3</th><td>2</td><td> 9327</td><td>3</td><td>0</td></tr>\n",
       "\t<tr><th scope=row>4</th><td>2</td><td>45918</td><td>4</td><td>1</td></tr>\n",
       "\t<tr><th scope=row>5</th><td>2</td><td>30035</td><td>5</td><td>0</td></tr>\n",
       "\t<tr><th scope=row>6</th><td>2</td><td>17794</td><td>6</td><td>1</td></tr>\n",
       "</tbody>\n",
       "</table>\n"
      ],
      "text/latex": [
       "A data.frame: 6 × 4\n",
       "\\begin{tabular}{r|llll}\n",
       "  & order\\_id & product\\_id & add\\_to\\_cart\\_order & reordered\\\\\n",
       "  & <int> & <int> & <int> & <int>\\\\\n",
       "\\hline\n",
       "\t1 & 2 & 33120 & 1 & 1\\\\\n",
       "\t2 & 2 & 28985 & 2 & 1\\\\\n",
       "\t3 & 2 &  9327 & 3 & 0\\\\\n",
       "\t4 & 2 & 45918 & 4 & 1\\\\\n",
       "\t5 & 2 & 30035 & 5 & 0\\\\\n",
       "\t6 & 2 & 17794 & 6 & 1\\\\\n",
       "\\end{tabular}\n"
      ],
      "text/markdown": [
       "\n",
       "A data.frame: 6 × 4\n",
       "\n",
       "| <!--/--> | order_id &lt;int&gt; | product_id &lt;int&gt; | add_to_cart_order &lt;int&gt; | reordered &lt;int&gt; |\n",
       "|---|---|---|---|---|\n",
       "| 1 | 2 | 33120 | 1 | 1 |\n",
       "| 2 | 2 | 28985 | 2 | 1 |\n",
       "| 3 | 2 |  9327 | 3 | 0 |\n",
       "| 4 | 2 | 45918 | 4 | 1 |\n",
       "| 5 | 2 | 30035 | 5 | 0 |\n",
       "| 6 | 2 | 17794 | 6 | 1 |\n",
       "\n"
      ],
      "text/plain": [
       "  order_id product_id add_to_cart_order reordered\n",
       "1 2        33120      1                 1        \n",
       "2 2        28985      2                 1        \n",
       "3 2         9327      3                 0        \n",
       "4 2        45918      4                 1        \n",
       "5 2        30035      5                 0        \n",
       "6 2        17794      6                 1        "
      ]
     },
     "metadata": {
      "tags": []
     },
     "output_type": "display_data"
    }
   ],
   "source": [
    "head(order_pr_prior) #first 6 records"
   ]
  },
  {
   "cell_type": "code",
   "execution_count": 22,
   "metadata": {
    "colab": {
     "base_uri": "https://localhost:8080/",
     "height": 34
    },
    "id": "z0ap8hRqPiL1",
    "outputId": "c2aa0b62-6f6d-431b-82be-54934b913f2d"
   },
   "outputs": [
    {
     "data": {
      "text/html": [
       "0"
      ],
      "text/latex": [
       "0"
      ],
      "text/markdown": [
       "0"
      ],
      "text/plain": [
       "[1] 0"
      ]
     },
     "metadata": {
      "tags": []
     },
     "output_type": "display_data"
    }
   ],
   "source": [
    "sum(is.na(order_pr_train)) #Check for missing values"
   ]
  },
  {
   "cell_type": "markdown",
   "metadata": {
    "id": "GSaC6g3uQOft"
   },
   "source": [
    "### 2.5.5 Orders"
   ]
  },
  {
   "cell_type": "code",
   "execution_count": 23,
   "metadata": {
    "colab": {
     "base_uri": "https://localhost:8080/",
     "height": 34
    },
    "id": "aI-RBeayPttn",
    "outputId": "be0aa52e-a966-4334-963b-9d2bcbbca8f1"
   },
   "outputs": [
    {
     "data": {
      "text/html": [
       "<style>\n",
       ".list-inline {list-style: none; margin:0; padding: 0}\n",
       ".list-inline>li {display: inline-block}\n",
       ".list-inline>li:not(:last-child)::after {content: \"\\00b7\"; padding: 0 .5ex}\n",
       "</style>\n",
       "<ol class=list-inline><li>3421083</li><li>7</li></ol>\n"
      ],
      "text/latex": [
       "\\begin{enumerate*}\n",
       "\\item 3421083\n",
       "\\item 7\n",
       "\\end{enumerate*}\n"
      ],
      "text/markdown": [
       "1. 3421083\n",
       "2. 7\n",
       "\n",
       "\n"
      ],
      "text/plain": [
       "[1] 3421083       7"
      ]
     },
     "metadata": {
      "tags": []
     },
     "output_type": "display_data"
    }
   ],
   "source": [
    "dim(orders) # number of records"
   ]
  },
  {
   "cell_type": "markdown",
   "metadata": {
    "id": "838vGcjxTG4w"
   },
   "source": [
    "Approximately 3.4 million records."
   ]
  },
  {
   "cell_type": "code",
   "execution_count": 24,
   "metadata": {
    "colab": {
     "base_uri": "https://localhost:8080/"
    },
    "id": "OCbah16mQbOb",
    "outputId": "f5de81fa-b81c-44ac-d6b4-710d4bed5500"
   },
   "outputs": [
    {
     "name": "stdout",
     "output_type": "stream",
     "text": [
      "'data.frame':\t3421083 obs. of  7 variables:\n",
      " $ order_id              : int  2539329 2398795 473747 2254736 431534 3367565 550135 3108588 2295261 2550362 ...\n",
      " $ user_id               : int  1 1 1 1 1 1 1 1 1 1 ...\n",
      " $ eval_set              : chr  \"prior\" \"prior\" \"prior\" \"prior\" ...\n",
      " $ order_number          : int  1 2 3 4 5 6 7 8 9 10 ...\n",
      " $ order_dow             : int  2 3 3 4 4 2 1 1 1 4 ...\n",
      " $ order_hour_of_day     : int  8 7 12 7 15 7 9 14 16 8 ...\n",
      " $ days_since_prior_order: num  NA 15 21 29 28 19 20 14 0 30 ...\n"
     ]
    }
   ],
   "source": [
    "str(orders) # structure of dataset"
   ]
  },
  {
   "cell_type": "code",
   "execution_count": 25,
   "metadata": {
    "colab": {
     "base_uri": "https://localhost:8080/"
    },
    "id": "IqFVVVvlRAOZ",
    "outputId": "ab3a5946-6829-4016-e929-5fd4ae636372"
   },
   "outputs": [
    {
     "name": "stdout",
     "output_type": "stream",
     "text": [
      " Factor w/ 3 levels \"prior\",\"test\",..: 1 1 1 1 1 1 1 1 1 1 ...\n"
     ]
    }
   ],
   "source": [
    "orders$eval_set <- as.factor(orders$eval_set) # convert column to factor\n",
    "str(orders$eval_set)"
   ]
  },
  {
   "cell_type": "code",
   "execution_count": 26,
   "metadata": {
    "colab": {
     "base_uri": "https://localhost:8080/",
     "height": 51
    },
    "id": "V-WTUJcdRbfK",
    "outputId": "f3d8548c-7b4f-4cdf-9e72-7e847319cfc1"
   },
   "outputs": [
    {
     "data": {
      "text/html": [
       "<style>\n",
       ".dl-inline {width: auto; margin:0; padding: 0}\n",
       ".dl-inline>dt, .dl-inline>dd {float: none; width: auto; display: inline-block}\n",
       ".dl-inline>dt::after {content: \":\\0020\"; padding-right: .5ex}\n",
       ".dl-inline>dt:not(:first-of-type) {padding-left: .5ex}\n",
       "</style><dl class=dl-inline><dt>order_id</dt><dd>0</dd><dt>user_id</dt><dd>0</dd><dt>eval_set</dt><dd>0</dd><dt>order_number</dt><dd>0</dd><dt>order_dow</dt><dd>0</dd><dt>order_hour_of_day</dt><dd>0</dd><dt>days_since_prior_order</dt><dd>206209</dd></dl>\n"
      ],
      "text/latex": [
       "\\begin{description*}\n",
       "\\item[order\\textbackslash{}\\_id] 0\n",
       "\\item[user\\textbackslash{}\\_id] 0\n",
       "\\item[eval\\textbackslash{}\\_set] 0\n",
       "\\item[order\\textbackslash{}\\_number] 0\n",
       "\\item[order\\textbackslash{}\\_dow] 0\n",
       "\\item[order\\textbackslash{}\\_hour\\textbackslash{}\\_of\\textbackslash{}\\_day] 0\n",
       "\\item[days\\textbackslash{}\\_since\\textbackslash{}\\_prior\\textbackslash{}\\_order] 206209\n",
       "\\end{description*}\n"
      ],
      "text/markdown": [
       "order_id\n",
       ":   0user_id\n",
       ":   0eval_set\n",
       ":   0order_number\n",
       ":   0order_dow\n",
       ":   0order_hour_of_day\n",
       ":   0days_since_prior_order\n",
       ":   206209\n",
       "\n"
      ],
      "text/plain": [
       "              order_id                user_id               eval_set \n",
       "                     0                      0                      0 \n",
       "          order_number              order_dow      order_hour_of_day \n",
       "                     0                      0                      0 \n",
       "days_since_prior_order \n",
       "                206209 "
      ]
     },
     "metadata": {
      "tags": []
     },
     "output_type": "display_data"
    }
   ],
   "source": [
    "apply(is.na(orders), 2, sum) #Check columns for missing values"
   ]
  },
  {
   "cell_type": "markdown",
   "metadata": {
    "id": "FBpmt-8lTVDO"
   },
   "source": [
    "206209 missing values in the days_since_prior_order column."
   ]
  },
  {
   "cell_type": "code",
   "execution_count": 27,
   "metadata": {
    "colab": {
     "base_uri": "https://localhost:8080/",
     "height": 407
    },
    "id": "c0cty2ibR27w",
    "outputId": "a5b3eaf3-11e6-49dc-8994-3b6daad10eef"
   },
   "outputs": [
    {
     "data": {
      "text/html": [
       "<table class=\"dataframe\">\n",
       "<caption>A data.frame: 10 × 7</caption>\n",
       "<thead>\n",
       "\t<tr><th></th><th scope=col>order_id</th><th scope=col>user_id</th><th scope=col>eval_set</th><th scope=col>order_number</th><th scope=col>order_dow</th><th scope=col>order_hour_of_day</th><th scope=col>days_since_prior_order</th></tr>\n",
       "\t<tr><th></th><th scope=col>&lt;int&gt;</th><th scope=col>&lt;int&gt;</th><th scope=col>&lt;fct&gt;</th><th scope=col>&lt;int&gt;</th><th scope=col>&lt;int&gt;</th><th scope=col>&lt;int&gt;</th><th scope=col>&lt;dbl&gt;</th></tr>\n",
       "</thead>\n",
       "<tbody>\n",
       "\t<tr><th scope=row>1</th><td>2539329</td><td>1</td><td>prior</td><td> 1</td><td>2</td><td> 8</td><td>NA</td></tr>\n",
       "\t<tr><th scope=row>2</th><td>2398795</td><td>1</td><td>prior</td><td> 2</td><td>3</td><td> 7</td><td>15</td></tr>\n",
       "\t<tr><th scope=row>3</th><td> 473747</td><td>1</td><td>prior</td><td> 3</td><td>3</td><td>12</td><td>21</td></tr>\n",
       "\t<tr><th scope=row>4</th><td>2254736</td><td>1</td><td>prior</td><td> 4</td><td>4</td><td> 7</td><td>29</td></tr>\n",
       "\t<tr><th scope=row>5</th><td> 431534</td><td>1</td><td>prior</td><td> 5</td><td>4</td><td>15</td><td>28</td></tr>\n",
       "\t<tr><th scope=row>6</th><td>3367565</td><td>1</td><td>prior</td><td> 6</td><td>2</td><td> 7</td><td>19</td></tr>\n",
       "\t<tr><th scope=row>7</th><td> 550135</td><td>1</td><td>prior</td><td> 7</td><td>1</td><td> 9</td><td>20</td></tr>\n",
       "\t<tr><th scope=row>8</th><td>3108588</td><td>1</td><td>prior</td><td> 8</td><td>1</td><td>14</td><td>14</td></tr>\n",
       "\t<tr><th scope=row>9</th><td>2295261</td><td>1</td><td>prior</td><td> 9</td><td>1</td><td>16</td><td> 0</td></tr>\n",
       "\t<tr><th scope=row>10</th><td>2550362</td><td>1</td><td>prior</td><td>10</td><td>4</td><td> 8</td><td>30</td></tr>\n",
       "</tbody>\n",
       "</table>\n"
      ],
      "text/latex": [
       "A data.frame: 10 × 7\n",
       "\\begin{tabular}{r|lllllll}\n",
       "  & order\\_id & user\\_id & eval\\_set & order\\_number & order\\_dow & order\\_hour\\_of\\_day & days\\_since\\_prior\\_order\\\\\n",
       "  & <int> & <int> & <fct> & <int> & <int> & <int> & <dbl>\\\\\n",
       "\\hline\n",
       "\t1 & 2539329 & 1 & prior &  1 & 2 &  8 & NA\\\\\n",
       "\t2 & 2398795 & 1 & prior &  2 & 3 &  7 & 15\\\\\n",
       "\t3 &  473747 & 1 & prior &  3 & 3 & 12 & 21\\\\\n",
       "\t4 & 2254736 & 1 & prior &  4 & 4 &  7 & 29\\\\\n",
       "\t5 &  431534 & 1 & prior &  5 & 4 & 15 & 28\\\\\n",
       "\t6 & 3367565 & 1 & prior &  6 & 2 &  7 & 19\\\\\n",
       "\t7 &  550135 & 1 & prior &  7 & 1 &  9 & 20\\\\\n",
       "\t8 & 3108588 & 1 & prior &  8 & 1 & 14 & 14\\\\\n",
       "\t9 & 2295261 & 1 & prior &  9 & 1 & 16 &  0\\\\\n",
       "\t10 & 2550362 & 1 & prior & 10 & 4 &  8 & 30\\\\\n",
       "\\end{tabular}\n"
      ],
      "text/markdown": [
       "\n",
       "A data.frame: 10 × 7\n",
       "\n",
       "| <!--/--> | order_id &lt;int&gt; | user_id &lt;int&gt; | eval_set &lt;fct&gt; | order_number &lt;int&gt; | order_dow &lt;int&gt; | order_hour_of_day &lt;int&gt; | days_since_prior_order &lt;dbl&gt; |\n",
       "|---|---|---|---|---|---|---|---|\n",
       "| 1 | 2539329 | 1 | prior |  1 | 2 |  8 | NA |\n",
       "| 2 | 2398795 | 1 | prior |  2 | 3 |  7 | 15 |\n",
       "| 3 |  473747 | 1 | prior |  3 | 3 | 12 | 21 |\n",
       "| 4 | 2254736 | 1 | prior |  4 | 4 |  7 | 29 |\n",
       "| 5 |  431534 | 1 | prior |  5 | 4 | 15 | 28 |\n",
       "| 6 | 3367565 | 1 | prior |  6 | 2 |  7 | 19 |\n",
       "| 7 |  550135 | 1 | prior |  7 | 1 |  9 | 20 |\n",
       "| 8 | 3108588 | 1 | prior |  8 | 1 | 14 | 14 |\n",
       "| 9 | 2295261 | 1 | prior |  9 | 1 | 16 |  0 |\n",
       "| 10 | 2550362 | 1 | prior | 10 | 4 |  8 | 30 |\n",
       "\n"
      ],
      "text/plain": [
       "   order_id user_id eval_set order_number order_dow order_hour_of_day\n",
       "1  2539329  1       prior     1           2          8               \n",
       "2  2398795  1       prior     2           3          7               \n",
       "3   473747  1       prior     3           3         12               \n",
       "4  2254736  1       prior     4           4          7               \n",
       "5   431534  1       prior     5           4         15               \n",
       "6  3367565  1       prior     6           2          7               \n",
       "7   550135  1       prior     7           1          9               \n",
       "8  3108588  1       prior     8           1         14               \n",
       "9  2295261  1       prior     9           1         16               \n",
       "10 2550362  1       prior    10           4          8               \n",
       "   days_since_prior_order\n",
       "1  NA                    \n",
       "2  15                    \n",
       "3  21                    \n",
       "4  29                    \n",
       "5  28                    \n",
       "6  19                    \n",
       "7  20                    \n",
       "8  14                    \n",
       "9   0                    \n",
       "10 30                    "
      ]
     },
     "metadata": {
      "tags": []
     },
     "output_type": "display_data"
    }
   ],
   "source": [
    "head(orders,10) #first 10 records"
   ]
  },
  {
   "cell_type": "markdown",
   "metadata": {
    "id": "PgRi-R4jR8hu"
   },
   "source": [
    "Records with NA in days_since_prior_order are first orders made by users"
   ]
  },
  {
   "cell_type": "code",
   "execution_count": 28,
   "metadata": {
    "id": "cdhZ6_C_SITJ"
   },
   "outputs": [],
   "source": [
    "orders$days_since_prior_order[is.na(orders$days_since_prior_order)] <- 0"
   ]
  },
  {
   "cell_type": "code",
   "execution_count": 29,
   "metadata": {
    "colab": {
     "base_uri": "https://localhost:8080/",
     "height": 34
    },
    "id": "pyGM-eHkSROq",
    "outputId": "801fb1f1-d3fe-42e8-e6ff-536b934cfc58"
   },
   "outputs": [
    {
     "data": {
      "text/html": [
       "0"
      ],
      "text/latex": [
       "0"
      ],
      "text/markdown": [
       "0"
      ],
      "text/plain": [
       "[1] 0"
      ]
     },
     "metadata": {
      "tags": []
     },
     "output_type": "display_data"
    }
   ],
   "source": [
    "sum(is.na(orders$days_since_prior_order)) # Check if NAs still exist"
   ]
  },
  {
   "cell_type": "markdown",
   "metadata": {
    "id": "qBsUEozeV4sx"
   },
   "source": [
    "### 2.5.6 Products"
   ]
  },
  {
   "cell_type": "code",
   "execution_count": 30,
   "metadata": {
    "colab": {
     "base_uri": "https://localhost:8080/",
     "height": 34
    },
    "id": "EW2FkZbto-ep",
    "outputId": "b7434135-7633-4204-96d9-6a5507bb6790"
   },
   "outputs": [
    {
     "data": {
      "text/html": [
       "<style>\n",
       ".list-inline {list-style: none; margin:0; padding: 0}\n",
       ".list-inline>li {display: inline-block}\n",
       ".list-inline>li:not(:last-child)::after {content: \"\\00b7\"; padding: 0 .5ex}\n",
       "</style>\n",
       "<ol class=list-inline><li>49688</li><li>4</li></ol>\n"
      ],
      "text/latex": [
       "\\begin{enumerate*}\n",
       "\\item 49688\n",
       "\\item 4\n",
       "\\end{enumerate*}\n"
      ],
      "text/markdown": [
       "1. 49688\n",
       "2. 4\n",
       "\n",
       "\n"
      ],
      "text/plain": [
       "[1] 49688     4"
      ]
     },
     "metadata": {
      "tags": []
     },
     "output_type": "display_data"
    }
   ],
   "source": [
    "dim(products) # number of records"
   ]
  },
  {
   "cell_type": "markdown",
   "metadata": {
    "id": "TPGVdhuVTgti"
   },
   "source": [
    "Approximately 50 thousand records."
   ]
  },
  {
   "cell_type": "code",
   "execution_count": 31,
   "metadata": {
    "colab": {
     "base_uri": "https://localhost:8080/"
    },
    "id": "jrh2h2P-qCOE",
    "outputId": "9056cab2-de49-441a-a048-92bb95c61f90"
   },
   "outputs": [
    {
     "name": "stdout",
     "output_type": "stream",
     "text": [
      "'data.frame':\t49688 obs. of  4 variables:\n",
      " $ product_id   : int  1 2 3 4 5 6 7 8 9 10 ...\n",
      " $ product_name : chr  \"Chocolate Sandwich Cookies\" \"All-Seasons Salt\" \"Robust Golden Unsweetened Oolong Tea\" \"Smart Ones Classic Favorites Mini Rigatoni With Vodka Cream Sauce\" ...\n",
      " $ aisle_id     : int  61 104 94 38 5 11 98 116 120 115 ...\n",
      " $ department_id: int  19 13 7 1 13 11 7 1 16 7 ...\n"
     ]
    }
   ],
   "source": [
    "str(products) # structure of Dataset"
   ]
  },
  {
   "cell_type": "code",
   "execution_count": 32,
   "metadata": {
    "colab": {
     "base_uri": "https://localhost:8080/"
    },
    "id": "tRAmnDFmvGKN",
    "outputId": "746f75e2-6bd2-42e4-de89-dcfb5b9cf4ef"
   },
   "outputs": [
    {
     "name": "stdout",
     "output_type": "stream",
     "text": [
      " Factor w/ 49688 levels \".5\\\\\\\" Waterproof Tape\",..: 8654 2025 38603 40999 18605 13358 36648 11773 23302 41888 ...\n"
     ]
    }
   ],
   "source": [
    "products$product_name <- as.factor(products$product_name) # convert to factor\n",
    "str(products$product_name)"
   ]
  },
  {
   "cell_type": "code",
   "execution_count": 33,
   "metadata": {
    "colab": {
     "base_uri": "https://localhost:8080/",
     "height": 283
    },
    "id": "B6zEjK244Gp1",
    "outputId": "c843d1ee-e8c5-4166-e0fb-8922f7edd1f0"
   },
   "outputs": [
    {
     "data": {
      "text/html": [
       "<table class=\"dataframe\">\n",
       "<caption>A data.frame: 6 × 4</caption>\n",
       "<thead>\n",
       "\t<tr><th></th><th scope=col>product_id</th><th scope=col>product_name</th><th scope=col>aisle_id</th><th scope=col>department_id</th></tr>\n",
       "\t<tr><th></th><th scope=col>&lt;int&gt;</th><th scope=col>&lt;fct&gt;</th><th scope=col>&lt;int&gt;</th><th scope=col>&lt;int&gt;</th></tr>\n",
       "</thead>\n",
       "<tbody>\n",
       "\t<tr><th scope=row>1</th><td>1</td><td>Chocolate Sandwich Cookies                                       </td><td> 61</td><td>19</td></tr>\n",
       "\t<tr><th scope=row>2</th><td>2</td><td>All-Seasons Salt                                                 </td><td>104</td><td>13</td></tr>\n",
       "\t<tr><th scope=row>3</th><td>3</td><td>Robust Golden Unsweetened Oolong Tea                             </td><td> 94</td><td> 7</td></tr>\n",
       "\t<tr><th scope=row>4</th><td>4</td><td>Smart Ones Classic Favorites Mini Rigatoni With Vodka Cream Sauce</td><td> 38</td><td> 1</td></tr>\n",
       "\t<tr><th scope=row>5</th><td>5</td><td>Green Chile Anytime Sauce                                        </td><td>  5</td><td>13</td></tr>\n",
       "\t<tr><th scope=row>6</th><td>6</td><td>Dry Nose Oil                                                     </td><td> 11</td><td>11</td></tr>\n",
       "</tbody>\n",
       "</table>\n"
      ],
      "text/latex": [
       "A data.frame: 6 × 4\n",
       "\\begin{tabular}{r|llll}\n",
       "  & product\\_id & product\\_name & aisle\\_id & department\\_id\\\\\n",
       "  & <int> & <fct> & <int> & <int>\\\\\n",
       "\\hline\n",
       "\t1 & 1 & Chocolate Sandwich Cookies                                        &  61 & 19\\\\\n",
       "\t2 & 2 & All-Seasons Salt                                                  & 104 & 13\\\\\n",
       "\t3 & 3 & Robust Golden Unsweetened Oolong Tea                              &  94 &  7\\\\\n",
       "\t4 & 4 & Smart Ones Classic Favorites Mini Rigatoni With Vodka Cream Sauce &  38 &  1\\\\\n",
       "\t5 & 5 & Green Chile Anytime Sauce                                         &   5 & 13\\\\\n",
       "\t6 & 6 & Dry Nose Oil                                                      &  11 & 11\\\\\n",
       "\\end{tabular}\n"
      ],
      "text/markdown": [
       "\n",
       "A data.frame: 6 × 4\n",
       "\n",
       "| <!--/--> | product_id &lt;int&gt; | product_name &lt;fct&gt; | aisle_id &lt;int&gt; | department_id &lt;int&gt; |\n",
       "|---|---|---|---|---|\n",
       "| 1 | 1 | Chocolate Sandwich Cookies                                        |  61 | 19 |\n",
       "| 2 | 2 | All-Seasons Salt                                                  | 104 | 13 |\n",
       "| 3 | 3 | Robust Golden Unsweetened Oolong Tea                              |  94 |  7 |\n",
       "| 4 | 4 | Smart Ones Classic Favorites Mini Rigatoni With Vodka Cream Sauce |  38 |  1 |\n",
       "| 5 | 5 | Green Chile Anytime Sauce                                         |   5 | 13 |\n",
       "| 6 | 6 | Dry Nose Oil                                                      |  11 | 11 |\n",
       "\n"
      ],
      "text/plain": [
       "  product_id product_name                                                     \n",
       "1 1          Chocolate Sandwich Cookies                                       \n",
       "2 2          All-Seasons Salt                                                 \n",
       "3 3          Robust Golden Unsweetened Oolong Tea                             \n",
       "4 4          Smart Ones Classic Favorites Mini Rigatoni With Vodka Cream Sauce\n",
       "5 5          Green Chile Anytime Sauce                                        \n",
       "6 6          Dry Nose Oil                                                     \n",
       "  aisle_id department_id\n",
       "1  61      19           \n",
       "2 104      13           \n",
       "3  94       7           \n",
       "4  38       1           \n",
       "5   5      13           \n",
       "6  11      11           "
      ]
     },
     "metadata": {
      "tags": []
     },
     "output_type": "display_data"
    }
   ],
   "source": [
    "head(products) #first 6 products"
   ]
  },
  {
   "cell_type": "markdown",
   "metadata": {
    "id": "RnxEou1CTW5X"
   },
   "source": [
    "### 2.5.7 Products with Aisles\n",
    "To achieve this, join the products and aisles dataset using aisle_id."
   ]
  },
  {
   "cell_type": "code",
   "execution_count": 34,
   "metadata": {
    "colab": {
     "base_uri": "https://localhost:8080/",
     "height": 34
    },
    "id": "wd6RuwLnVZND",
    "outputId": "88abdb9f-00e0-48c9-8366-d97d30473eef"
   },
   "outputs": [
    {
     "data": {
      "text/html": [
       "0"
      ],
      "text/latex": [
       "0"
      ],
      "text/markdown": [
       "0"
      ],
      "text/plain": [
       "[1] 0"
      ]
     },
     "metadata": {
      "tags": []
     },
     "output_type": "display_data"
    }
   ],
   "source": [
    "aisles_prods <- left_join(products, aisles, by = 'aisle_id') #left join to aisle dataset\n",
    "sum(is.na(aisles_prods))                                     #Check if both tables joined properly"
   ]
  },
  {
   "cell_type": "code",
   "execution_count": 35,
   "metadata": {
    "colab": {
     "base_uri": "https://localhost:8080/",
     "height": 317
    },
    "id": "MMHWZ0xh50q-",
    "outputId": "2c1385dc-9fb6-4ed9-dee8-92c111e989e9"
   },
   "outputs": [
    {
     "data": {
      "text/html": [
       "<table class=\"dataframe\">\n",
       "<caption>A data.frame: 6 × 5</caption>\n",
       "<thead>\n",
       "\t<tr><th></th><th scope=col>product_id</th><th scope=col>product_name</th><th scope=col>aisle_id</th><th scope=col>department_id</th><th scope=col>aisle</th></tr>\n",
       "\t<tr><th></th><th scope=col>&lt;int&gt;</th><th scope=col>&lt;fct&gt;</th><th scope=col>&lt;int&gt;</th><th scope=col>&lt;int&gt;</th><th scope=col>&lt;fct&gt;</th></tr>\n",
       "</thead>\n",
       "<tbody>\n",
       "\t<tr><th scope=row>1</th><td>1</td><td>Chocolate Sandwich Cookies                                       </td><td> 61</td><td>19</td><td>cookies cakes             </td></tr>\n",
       "\t<tr><th scope=row>2</th><td>2</td><td>All-Seasons Salt                                                 </td><td>104</td><td>13</td><td>spices seasonings         </td></tr>\n",
       "\t<tr><th scope=row>3</th><td>3</td><td>Robust Golden Unsweetened Oolong Tea                             </td><td> 94</td><td> 7</td><td>tea                       </td></tr>\n",
       "\t<tr><th scope=row>4</th><td>4</td><td>Smart Ones Classic Favorites Mini Rigatoni With Vodka Cream Sauce</td><td> 38</td><td> 1</td><td>frozen meals              </td></tr>\n",
       "\t<tr><th scope=row>5</th><td>5</td><td>Green Chile Anytime Sauce                                        </td><td>  5</td><td>13</td><td>marinades meat preparation</td></tr>\n",
       "\t<tr><th scope=row>6</th><td>6</td><td>Dry Nose Oil                                                     </td><td> 11</td><td>11</td><td>cold flu allergy          </td></tr>\n",
       "</tbody>\n",
       "</table>\n"
      ],
      "text/latex": [
       "A data.frame: 6 × 5\n",
       "\\begin{tabular}{r|lllll}\n",
       "  & product\\_id & product\\_name & aisle\\_id & department\\_id & aisle\\\\\n",
       "  & <int> & <fct> & <int> & <int> & <fct>\\\\\n",
       "\\hline\n",
       "\t1 & 1 & Chocolate Sandwich Cookies                                        &  61 & 19 & cookies cakes             \\\\\n",
       "\t2 & 2 & All-Seasons Salt                                                  & 104 & 13 & spices seasonings         \\\\\n",
       "\t3 & 3 & Robust Golden Unsweetened Oolong Tea                              &  94 &  7 & tea                       \\\\\n",
       "\t4 & 4 & Smart Ones Classic Favorites Mini Rigatoni With Vodka Cream Sauce &  38 &  1 & frozen meals              \\\\\n",
       "\t5 & 5 & Green Chile Anytime Sauce                                         &   5 & 13 & marinades meat preparation\\\\\n",
       "\t6 & 6 & Dry Nose Oil                                                      &  11 & 11 & cold flu allergy          \\\\\n",
       "\\end{tabular}\n"
      ],
      "text/markdown": [
       "\n",
       "A data.frame: 6 × 5\n",
       "\n",
       "| <!--/--> | product_id &lt;int&gt; | product_name &lt;fct&gt; | aisle_id &lt;int&gt; | department_id &lt;int&gt; | aisle &lt;fct&gt; |\n",
       "|---|---|---|---|---|---|\n",
       "| 1 | 1 | Chocolate Sandwich Cookies                                        |  61 | 19 | cookies cakes              |\n",
       "| 2 | 2 | All-Seasons Salt                                                  | 104 | 13 | spices seasonings          |\n",
       "| 3 | 3 | Robust Golden Unsweetened Oolong Tea                              |  94 |  7 | tea                        |\n",
       "| 4 | 4 | Smart Ones Classic Favorites Mini Rigatoni With Vodka Cream Sauce |  38 |  1 | frozen meals               |\n",
       "| 5 | 5 | Green Chile Anytime Sauce                                         |   5 | 13 | marinades meat preparation |\n",
       "| 6 | 6 | Dry Nose Oil                                                      |  11 | 11 | cold flu allergy           |\n",
       "\n"
      ],
      "text/plain": [
       "  product_id product_name                                                     \n",
       "1 1          Chocolate Sandwich Cookies                                       \n",
       "2 2          All-Seasons Salt                                                 \n",
       "3 3          Robust Golden Unsweetened Oolong Tea                             \n",
       "4 4          Smart Ones Classic Favorites Mini Rigatoni With Vodka Cream Sauce\n",
       "5 5          Green Chile Anytime Sauce                                        \n",
       "6 6          Dry Nose Oil                                                     \n",
       "  aisle_id department_id aisle                     \n",
       "1  61      19            cookies cakes             \n",
       "2 104      13            spices seasonings         \n",
       "3  94       7            tea                       \n",
       "4  38       1            frozen meals              \n",
       "5   5      13            marinades meat preparation\n",
       "6  11      11            cold flu allergy          "
      ]
     },
     "metadata": {
      "tags": []
     },
     "output_type": "display_data"
    }
   ],
   "source": [
    "head(aisles_prods)    # first 6 records"
   ]
  },
  {
   "cell_type": "markdown",
   "metadata": {
    "id": "YWcmqeRT6SS_"
   },
   "source": [
    "### 2.5.8 Products with department\n",
    "To achieve this, join the products and dept dataset using department_id.\n",
    "\n"
   ]
  },
  {
   "cell_type": "code",
   "execution_count": 36,
   "metadata": {
    "colab": {
     "base_uri": "https://localhost:8080/",
     "height": 34
    },
    "id": "WOcuTjzy1XTe",
    "outputId": "68ab3682-2ccc-4c68-a6ff-5a5de56075f3"
   },
   "outputs": [
    {
     "data": {
      "text/html": [
       "0"
      ],
      "text/latex": [
       "0"
      ],
      "text/markdown": [
       "0"
      ],
      "text/plain": [
       "[1] 0"
      ]
     },
     "metadata": {
      "tags": []
     },
     "output_type": "display_data"
    }
   ],
   "source": [
    "dept_prods <- left_join(products, dept, by = 'department_id') #left join to aisle dataset\n",
    "sum(is.na(dept_prods))                                     #Check if both tables joined properly"
   ]
  },
  {
   "cell_type": "code",
   "execution_count": 37,
   "metadata": {
    "colab": {
     "base_uri": "https://localhost:8080/",
     "height": 283
    },
    "id": "kR0k4Uq93H5F",
    "outputId": "04a882ff-a8aa-4bb0-f1e8-ec836fc2b8bf"
   },
   "outputs": [
    {
     "data": {
      "text/html": [
       "<table class=\"dataframe\">\n",
       "<caption>A data.frame: 6 × 5</caption>\n",
       "<thead>\n",
       "\t<tr><th></th><th scope=col>product_id</th><th scope=col>product_name</th><th scope=col>aisle_id</th><th scope=col>department_id</th><th scope=col>department</th></tr>\n",
       "\t<tr><th></th><th scope=col>&lt;int&gt;</th><th scope=col>&lt;fct&gt;</th><th scope=col>&lt;int&gt;</th><th scope=col>&lt;int&gt;</th><th scope=col>&lt;fct&gt;</th></tr>\n",
       "</thead>\n",
       "<tbody>\n",
       "\t<tr><th scope=row>1</th><td>1</td><td>Chocolate Sandwich Cookies                                       </td><td> 61</td><td>19</td><td>snacks       </td></tr>\n",
       "\t<tr><th scope=row>2</th><td>2</td><td>All-Seasons Salt                                                 </td><td>104</td><td>13</td><td>pantry       </td></tr>\n",
       "\t<tr><th scope=row>3</th><td>3</td><td>Robust Golden Unsweetened Oolong Tea                             </td><td> 94</td><td> 7</td><td>beverages    </td></tr>\n",
       "\t<tr><th scope=row>4</th><td>4</td><td>Smart Ones Classic Favorites Mini Rigatoni With Vodka Cream Sauce</td><td> 38</td><td> 1</td><td>frozen       </td></tr>\n",
       "\t<tr><th scope=row>5</th><td>5</td><td>Green Chile Anytime Sauce                                        </td><td>  5</td><td>13</td><td>pantry       </td></tr>\n",
       "\t<tr><th scope=row>6</th><td>6</td><td>Dry Nose Oil                                                     </td><td> 11</td><td>11</td><td>personal care</td></tr>\n",
       "</tbody>\n",
       "</table>\n"
      ],
      "text/latex": [
       "A data.frame: 6 × 5\n",
       "\\begin{tabular}{r|lllll}\n",
       "  & product\\_id & product\\_name & aisle\\_id & department\\_id & department\\\\\n",
       "  & <int> & <fct> & <int> & <int> & <fct>\\\\\n",
       "\\hline\n",
       "\t1 & 1 & Chocolate Sandwich Cookies                                        &  61 & 19 & snacks       \\\\\n",
       "\t2 & 2 & All-Seasons Salt                                                  & 104 & 13 & pantry       \\\\\n",
       "\t3 & 3 & Robust Golden Unsweetened Oolong Tea                              &  94 &  7 & beverages    \\\\\n",
       "\t4 & 4 & Smart Ones Classic Favorites Mini Rigatoni With Vodka Cream Sauce &  38 &  1 & frozen       \\\\\n",
       "\t5 & 5 & Green Chile Anytime Sauce                                         &   5 & 13 & pantry       \\\\\n",
       "\t6 & 6 & Dry Nose Oil                                                      &  11 & 11 & personal care\\\\\n",
       "\\end{tabular}\n"
      ],
      "text/markdown": [
       "\n",
       "A data.frame: 6 × 5\n",
       "\n",
       "| <!--/--> | product_id &lt;int&gt; | product_name &lt;fct&gt; | aisle_id &lt;int&gt; | department_id &lt;int&gt; | department &lt;fct&gt; |\n",
       "|---|---|---|---|---|---|\n",
       "| 1 | 1 | Chocolate Sandwich Cookies                                        |  61 | 19 | snacks        |\n",
       "| 2 | 2 | All-Seasons Salt                                                  | 104 | 13 | pantry        |\n",
       "| 3 | 3 | Robust Golden Unsweetened Oolong Tea                              |  94 |  7 | beverages     |\n",
       "| 4 | 4 | Smart Ones Classic Favorites Mini Rigatoni With Vodka Cream Sauce |  38 |  1 | frozen        |\n",
       "| 5 | 5 | Green Chile Anytime Sauce                                         |   5 | 13 | pantry        |\n",
       "| 6 | 6 | Dry Nose Oil                                                      |  11 | 11 | personal care |\n",
       "\n"
      ],
      "text/plain": [
       "  product_id product_name                                                     \n",
       "1 1          Chocolate Sandwich Cookies                                       \n",
       "2 2          All-Seasons Salt                                                 \n",
       "3 3          Robust Golden Unsweetened Oolong Tea                             \n",
       "4 4          Smart Ones Classic Favorites Mini Rigatoni With Vodka Cream Sauce\n",
       "5 5          Green Chile Anytime Sauce                                        \n",
       "6 6          Dry Nose Oil                                                     \n",
       "  aisle_id department_id department   \n",
       "1  61      19            snacks       \n",
       "2 104      13            pantry       \n",
       "3  94       7            beverages    \n",
       "4  38       1            frozen       \n",
       "5   5      13            pantry       \n",
       "6  11      11            personal care"
      ]
     },
     "metadata": {
      "tags": []
     },
     "output_type": "display_data"
    }
   ],
   "source": [
    "head(dept_prods)   # first 6 records"
   ]
  },
  {
   "cell_type": "markdown",
   "metadata": {
    "id": "q0MNzViK-rj3"
   },
   "source": [
    "# 3. Exploratory Data Analysis"
   ]
  },
  {
   "cell_type": "markdown",
   "metadata": {
    "id": "9FCRy3hiBwDE"
   },
   "source": [
    "## 3.1 Number of Orders per User\n",
    "To achieve this, I need to group and count the order dataset by user_id"
   ]
  },
  {
   "cell_type": "code",
   "execution_count": 38,
   "metadata": {
    "colab": {
     "base_uri": "https://localhost:8080/",
     "height": 283
    },
    "id": "lSqmOa0rCVzm",
    "outputId": "03039a97-c393-4c2d-8991-0d05e286fb28"
   },
   "outputs": [
    {
     "data": {
      "text/html": [
       "<table class=\"dataframe\">\n",
       "<caption>A tibble: 6 × 2</caption>\n",
       "<thead>\n",
       "\t<tr><th scope=col>user_id</th><th scope=col>order_number</th></tr>\n",
       "\t<tr><th scope=col>&lt;int&gt;</th><th scope=col>&lt;int&gt;</th></tr>\n",
       "</thead>\n",
       "<tbody>\n",
       "\t<tr><td>210</td><td>100</td></tr>\n",
       "\t<tr><td>310</td><td>100</td></tr>\n",
       "\t<tr><td>313</td><td>100</td></tr>\n",
       "\t<tr><td>690</td><td>100</td></tr>\n",
       "\t<tr><td>786</td><td>100</td></tr>\n",
       "\t<tr><td>964</td><td>100</td></tr>\n",
       "</tbody>\n",
       "</table>\n"
      ],
      "text/latex": [
       "A tibble: 6 × 2\n",
       "\\begin{tabular}{ll}\n",
       " user\\_id & order\\_number\\\\\n",
       " <int> & <int>\\\\\n",
       "\\hline\n",
       "\t 210 & 100\\\\\n",
       "\t 310 & 100\\\\\n",
       "\t 313 & 100\\\\\n",
       "\t 690 & 100\\\\\n",
       "\t 786 & 100\\\\\n",
       "\t 964 & 100\\\\\n",
       "\\end{tabular}\n"
      ],
      "text/markdown": [
       "\n",
       "A tibble: 6 × 2\n",
       "\n",
       "| user_id &lt;int&gt; | order_number &lt;int&gt; |\n",
       "|---|---|\n",
       "| 210 | 100 |\n",
       "| 310 | 100 |\n",
       "| 313 | 100 |\n",
       "| 690 | 100 |\n",
       "| 786 | 100 |\n",
       "| 964 | 100 |\n",
       "\n"
      ],
      "text/plain": [
       "  user_id order_number\n",
       "1 210     100         \n",
       "2 310     100         \n",
       "3 313     100         \n",
       "4 690     100         \n",
       "5 786     100         \n",
       "6 964     100         "
      ]
     },
     "metadata": {
      "tags": []
     },
     "output_type": "display_data"
    }
   ],
   "source": [
    "order_count <-  orders %>% group_by(user_id) %>% summarise (order_number = n()) %>% arrange(desc(order_number))\n",
    "head(order_count)"
   ]
  },
  {
   "cell_type": "markdown",
   "metadata": {
    "id": "m8xD-upRqMSV"
   },
   "source": [
    "The highest number of orders achieved by any user is 100. This includes prior orders."
   ]
  },
  {
   "cell_type": "code",
   "execution_count": 39,
   "metadata": {
    "colab": {
     "base_uri": "https://localhost:8080/",
     "height": 34
    },
    "id": "OsOqhgoAokgL",
    "outputId": "c007aed0-8eb8-4957-ffcb-5370d7888e19"
   },
   "outputs": [
    {
     "data": {
      "text/html": [
       "206209"
      ],
      "text/latex": [
       "206209"
      ],
      "text/markdown": [
       "206209"
      ],
      "text/plain": [
       "[1] 206209"
      ]
     },
     "metadata": {
      "tags": []
     },
     "output_type": "display_data"
    }
   ],
   "source": [
    "max(order_count$user_id) #number of users recorded"
   ]
  },
  {
   "cell_type": "code",
   "execution_count": 40,
   "metadata": {
    "colab": {
     "base_uri": "https://localhost:8080/",
     "height": 497
    },
    "id": "apALoF_2DWTQ",
    "outputId": "7df32751-dff6-4b89-e5b5-c4c51f146720"
   },
   "outputs": [
    {
     "data": {
      "image/png": "[encoded data removed]",
      "text/plain": [
       "plot without title"
      ]
     },
     "metadata": {
      "image/png": {
       "height": 480,
       "width": 1200
      },
      "tags": []
     },
     "output_type": "display_data"
    }
   ],
   "source": [
    "options(repr.plot.width = 20, repr.plot.height = 8)\n",
    "ggplot(order_count) + geom_bar(aes(x = factor(order_number)), fill = 'white', color = 'blue') + ggtitle('Frequency Distribution of Orders') +\n",
    "xlab('Order Number')+  scale_x_discrete(guide = guide_axis(angle = 90)) +\n",
    "theme(plot.title = element_text(color=\"red\", size=24, face=\"bold\"),\n",
    "axis.title.x = element_text(size=15, face=\"bold\"),\n",
    "axis.title.y = element_text(size=15, face=\"bold\"),\n",
    "axis.text.x = element_text(size=14),\n",
    "axis.text.y = element_text(size=14))   # edit labels\n"
   ]
  },
  {
   "cell_type": "markdown",
   "metadata": {
    "id": "HIpD_uoNjGkB"
   },
   "source": [
    "The most frequent number of orders by users(about 23,700 users) is 4 and the number decreases gradually until it gets to 100, where there are about 250 users that have about 100 orders."
   ]
  },
  {
   "cell_type": "markdown",
   "metadata": {
    "id": "kN9iYN41ogwi"
   },
   "source": [
    "## 3.2 Top 10 best performing aisles\n",
    "This task is further divided into the following:\n",
    "1. Merge both ordered products dataset( train and prior)\n",
    "2. From the orders dataset remove the records with 'test' under the eval_set column.\n",
    "3. join the dataset from 2 with 1 above to find out the most ordered product id.\n",
    "4. Join dataset from 4 above to aisles_prod dataset.\n",
    "5. Group, count and sort (in descending order) by aisle_name to find best performing aisles."
   ]
  },
  {
   "cell_type": "code",
   "execution_count": 41,
   "metadata": {
    "colab": {
     "base_uri": "https://localhost:8080/",
     "height": 34
    },
    "id": "174ePPntpekl",
    "outputId": "8c9bbd7c-730e-4521-e5f8-2a0c1ab8dc73"
   },
   "outputs": [
    {
     "data": {
      "text/html": [
       "<style>\n",
       ".list-inline {list-style: none; margin:0; padding: 0}\n",
       ".list-inline>li {display: inline-block}\n",
       ".list-inline>li:not(:last-child)::after {content: \"\\00b7\"; padding: 0 .5ex}\n",
       "</style>\n",
       "<ol class=list-inline><li>33819106</li><li>4</li></ol>\n"
      ],
      "text/latex": [
       "\\begin{enumerate*}\n",
       "\\item 33819106\n",
       "\\item 4\n",
       "\\end{enumerate*}\n"
      ],
      "text/markdown": [
       "1. 33819106\n",
       "2. 4\n",
       "\n",
       "\n"
      ],
      "text/plain": [
       "[1] 33819106        4"
      ]
     },
     "metadata": {
      "tags": []
     },
     "output_type": "display_data"
    }
   ],
   "source": [
    "order_prods <- rbind(order_pr_prior, order_pr_train) #merge both datasets vertically\n",
    "dim(order_prods) # check the new number of records"
   ]
  },
  {
   "cell_type": "markdown",
   "metadata": {
    "id": "sSVdyuS-t0WQ"
   },
   "source": [
    "Merged successfully"
   ]
  },
  {
   "cell_type": "code",
   "execution_count": 42,
   "metadata": {
    "colab": {
     "base_uri": "https://localhost:8080/",
     "height": 97
    },
    "id": "PIyCnglX1nkw",
    "outputId": "f301ad9e-eff7-4180-8d43-cf8ffee5d729"
   },
   "outputs": [
    {
     "data": {
      "text/html": [
       "<table class=\"dataframe\">\n",
       "<caption>A data.frame: 0 × 7</caption>\n",
       "<thead>\n",
       "\t<tr><th scope=col>order_id</th><th scope=col>user_id</th><th scope=col>eval_set</th><th scope=col>order_number</th><th scope=col>order_dow</th><th scope=col>order_hour_of_day</th><th scope=col>days_since_prior_order</th></tr>\n",
       "\t<tr><th scope=col>&lt;int&gt;</th><th scope=col>&lt;int&gt;</th><th scope=col>&lt;fct&gt;</th><th scope=col>&lt;int&gt;</th><th scope=col>&lt;int&gt;</th><th scope=col>&lt;int&gt;</th><th scope=col>&lt;dbl&gt;</th></tr>\n",
       "</thead>\n",
       "<tbody>\n",
       "</tbody>\n",
       "</table>\n"
      ],
      "text/latex": [
       "A data.frame: 0 × 7\n",
       "\\begin{tabular}{lllllll}\n",
       " order\\_id & user\\_id & eval\\_set & order\\_number & order\\_dow & order\\_hour\\_of\\_day & days\\_since\\_prior\\_order\\\\\n",
       " <int> & <int> & <fct> & <int> & <int> & <int> & <dbl>\\\\\n",
       "\\hline\n",
       "\\end{tabular}\n"
      ],
      "text/markdown": [
       "\n",
       "A data.frame: 0 × 7\n",
       "\n",
       "| order_id &lt;int&gt; | user_id &lt;int&gt; | eval_set &lt;fct&gt; | order_number &lt;int&gt; | order_dow &lt;int&gt; | order_hour_of_day &lt;int&gt; | days_since_prior_order &lt;dbl&gt; |\n",
       "|---|---|---|---|---|---|---|\n",
       "\n"
      ],
      "text/plain": [
       "     order_id user_id eval_set order_number order_dow order_hour_of_day\n",
       "     days_since_prior_order"
      ]
     },
     "metadata": {
      "tags": []
     },
     "output_type": "display_data"
    }
   ],
   "source": [
    "orders_df <- orders %>% filter(eval_set != 'test')  #remove records with 'test'\n",
    "orders_df %>% filter(eval_set == 'test')"
   ]
  },
  {
   "cell_type": "markdown",
   "metadata": {
    "id": "2LO-hr082bdK"
   },
   "source": [
    "Successfully removed"
   ]
  },
  {
   "cell_type": "code",
   "execution_count": 43,
   "metadata": {
    "colab": {
     "base_uri": "https://localhost:8080/",
     "height": 34
    },
    "id": "m-xhKTi12lGl",
    "outputId": "0551ba02-437e-4354-cbdf-ac6487eaceeb"
   },
   "outputs": [
    {
     "data": {
      "text/html": [
       "0"
      ],
      "text/latex": [
       "0"
      ],
      "text/markdown": [
       "0"
      ],
      "text/plain": [
       "[1] 0"
      ]
     },
     "metadata": {
      "tags": []
     },
     "output_type": "display_data"
    }
   ],
   "source": [
    "prods_id_ord <- left_join(orders_df, order_prods, by = 'order_id') \n",
    "sum(is.na(prods_id_ord))   #check for Nas"
   ]
  },
  {
   "cell_type": "code",
   "execution_count": 44,
   "metadata": {
    "colab": {
     "base_uri": "https://localhost:8080/",
     "height": 283
    },
    "id": "BiufCyYi35Mq",
    "outputId": "7f80b1c7-2df2-4afa-f8e3-3d93584d1750"
   },
   "outputs": [
    {
     "data": {
      "text/html": [
       "<table class=\"dataframe\">\n",
       "<caption>A data.frame: 6 × 10</caption>\n",
       "<thead>\n",
       "\t<tr><th></th><th scope=col>order_id</th><th scope=col>user_id</th><th scope=col>eval_set</th><th scope=col>order_number</th><th scope=col>order_dow</th><th scope=col>order_hour_of_day</th><th scope=col>days_since_prior_order</th><th scope=col>product_id</th><th scope=col>add_to_cart_order</th><th scope=col>reordered</th></tr>\n",
       "\t<tr><th></th><th scope=col>&lt;int&gt;</th><th scope=col>&lt;int&gt;</th><th scope=col>&lt;fct&gt;</th><th scope=col>&lt;int&gt;</th><th scope=col>&lt;int&gt;</th><th scope=col>&lt;int&gt;</th><th scope=col>&lt;dbl&gt;</th><th scope=col>&lt;int&gt;</th><th scope=col>&lt;int&gt;</th><th scope=col>&lt;int&gt;</th></tr>\n",
       "</thead>\n",
       "<tbody>\n",
       "\t<tr><th scope=row>1</th><td>2539329</td><td>1</td><td>prior</td><td>1</td><td>2</td><td>8</td><td> 0</td><td>  196</td><td>1</td><td>0</td></tr>\n",
       "\t<tr><th scope=row>2</th><td>2539329</td><td>1</td><td>prior</td><td>1</td><td>2</td><td>8</td><td> 0</td><td>14084</td><td>2</td><td>0</td></tr>\n",
       "\t<tr><th scope=row>3</th><td>2539329</td><td>1</td><td>prior</td><td>1</td><td>2</td><td>8</td><td> 0</td><td>12427</td><td>3</td><td>0</td></tr>\n",
       "\t<tr><th scope=row>4</th><td>2539329</td><td>1</td><td>prior</td><td>1</td><td>2</td><td>8</td><td> 0</td><td>26088</td><td>4</td><td>0</td></tr>\n",
       "\t<tr><th scope=row>5</th><td>2539329</td><td>1</td><td>prior</td><td>1</td><td>2</td><td>8</td><td> 0</td><td>26405</td><td>5</td><td>0</td></tr>\n",
       "\t<tr><th scope=row>6</th><td>2398795</td><td>1</td><td>prior</td><td>2</td><td>3</td><td>7</td><td>15</td><td>  196</td><td>1</td><td>1</td></tr>\n",
       "</tbody>\n",
       "</table>\n"
      ],
      "text/latex": [
       "A data.frame: 6 × 10\n",
       "\\begin{tabular}{r|llllllllll}\n",
       "  & order\\_id & user\\_id & eval\\_set & order\\_number & order\\_dow & order\\_hour\\_of\\_day & days\\_since\\_prior\\_order & product\\_id & add\\_to\\_cart\\_order & reordered\\\\\n",
       "  & <int> & <int> & <fct> & <int> & <int> & <int> & <dbl> & <int> & <int> & <int>\\\\\n",
       "\\hline\n",
       "\t1 & 2539329 & 1 & prior & 1 & 2 & 8 &  0 &   196 & 1 & 0\\\\\n",
       "\t2 & 2539329 & 1 & prior & 1 & 2 & 8 &  0 & 14084 & 2 & 0\\\\\n",
       "\t3 & 2539329 & 1 & prior & 1 & 2 & 8 &  0 & 12427 & 3 & 0\\\\\n",
       "\t4 & 2539329 & 1 & prior & 1 & 2 & 8 &  0 & 26088 & 4 & 0\\\\\n",
       "\t5 & 2539329 & 1 & prior & 1 & 2 & 8 &  0 & 26405 & 5 & 0\\\\\n",
       "\t6 & 2398795 & 1 & prior & 2 & 3 & 7 & 15 &   196 & 1 & 1\\\\\n",
       "\\end{tabular}\n"
      ],
      "text/markdown": [
       "\n",
       "A data.frame: 6 × 10\n",
       "\n",
       "| <!--/--> | order_id &lt;int&gt; | user_id &lt;int&gt; | eval_set &lt;fct&gt; | order_number &lt;int&gt; | order_dow &lt;int&gt; | order_hour_of_day &lt;int&gt; | days_since_prior_order &lt;dbl&gt; | product_id &lt;int&gt; | add_to_cart_order &lt;int&gt; | reordered &lt;int&gt; |\n",
       "|---|---|---|---|---|---|---|---|---|---|---|\n",
       "| 1 | 2539329 | 1 | prior | 1 | 2 | 8 |  0 |   196 | 1 | 0 |\n",
       "| 2 | 2539329 | 1 | prior | 1 | 2 | 8 |  0 | 14084 | 2 | 0 |\n",
       "| 3 | 2539329 | 1 | prior | 1 | 2 | 8 |  0 | 12427 | 3 | 0 |\n",
       "| 4 | 2539329 | 1 | prior | 1 | 2 | 8 |  0 | 26088 | 4 | 0 |\n",
       "| 5 | 2539329 | 1 | prior | 1 | 2 | 8 |  0 | 26405 | 5 | 0 |\n",
       "| 6 | 2398795 | 1 | prior | 2 | 3 | 7 | 15 |   196 | 1 | 1 |\n",
       "\n"
      ],
      "text/plain": [
       "  order_id user_id eval_set order_number order_dow order_hour_of_day\n",
       "1 2539329  1       prior    1            2         8                \n",
       "2 2539329  1       prior    1            2         8                \n",
       "3 2539329  1       prior    1            2         8                \n",
       "4 2539329  1       prior    1            2         8                \n",
       "5 2539329  1       prior    1            2         8                \n",
       "6 2398795  1       prior    2            3         7                \n",
       "  days_since_prior_order product_id add_to_cart_order reordered\n",
       "1  0                       196      1                 0        \n",
       "2  0                     14084      2                 0        \n",
       "3  0                     12427      3                 0        \n",
       "4  0                     26088      4                 0        \n",
       "5  0                     26405      5                 0        \n",
       "6 15                       196      1                 1        "
      ]
     },
     "metadata": {
      "tags": []
     },
     "output_type": "display_data"
    }
   ],
   "source": [
    "head(prods_id_ord)"
   ]
  },
  {
   "cell_type": "code",
   "execution_count": 45,
   "metadata": {
    "colab": {
     "base_uri": "https://localhost:8080/",
     "height": 34
    },
    "id": "f1dgBTnB4C0B",
    "outputId": "8e8240e1-1a93-47b2-ef35-b782b3ab9c07"
   },
   "outputs": [
    {
     "data": {
      "text/html": [
       "0"
      ],
      "text/latex": [
       "0"
      ],
      "text/markdown": [
       "0"
      ],
      "text/plain": [
       "[1] 0"
      ]
     },
     "metadata": {
      "tags": []
     },
     "output_type": "display_data"
    }
   ],
   "source": [
    "ais_prod_name <- left_join(prods_id_ord, aisles_prods, by = 'product_id')   # join with aisles_prod\n",
    "sum(is.na(ais_prod_name))    #check for Nas"
   ]
  },
  {
   "cell_type": "code",
   "execution_count": 46,
   "metadata": {
    "colab": {
     "base_uri": "https://localhost:8080/",
     "height": 441
    },
    "id": "MyKnQLpp4v_J",
    "outputId": "c685e6df-aed6-44c9-e3ff-4334b39837c2"
   },
   "outputs": [
    {
     "name": "stderr",
     "output_type": "stream",
     "text": [
      "Selecting by count\n",
      "\n"
     ]
    },
    {
     "data": {
      "text/html": [
       "<table class=\"dataframe\">\n",
       "<caption>A tibble: 10 × 2</caption>\n",
       "<thead>\n",
       "\t<tr><th scope=col>aisle</th><th scope=col>count</th></tr>\n",
       "\t<tr><th scope=col>&lt;fct&gt;</th><th scope=col>&lt;int&gt;</th></tr>\n",
       "</thead>\n",
       "<tbody>\n",
       "\t<tr><td>fresh fruits                 </td><td>3792661</td></tr>\n",
       "\t<tr><td>fresh vegetables             </td><td>3568630</td></tr>\n",
       "\t<tr><td>packaged vegetables fruits   </td><td>1843806</td></tr>\n",
       "\t<tr><td>yogurt                       </td><td>1507583</td></tr>\n",
       "\t<tr><td>packaged cheese              </td><td>1021462</td></tr>\n",
       "\t<tr><td>milk                         </td><td> 923659</td></tr>\n",
       "\t<tr><td>water seltzer sparkling water</td><td> 878150</td></tr>\n",
       "\t<tr><td>chips pretzels               </td><td> 753739</td></tr>\n",
       "\t<tr><td>soy lactosefree              </td><td> 664493</td></tr>\n",
       "\t<tr><td>bread                        </td><td> 608469</td></tr>\n",
       "</tbody>\n",
       "</table>\n"
      ],
      "text/latex": [
       "A tibble: 10 × 2\n",
       "\\begin{tabular}{ll}\n",
       " aisle & count\\\\\n",
       " <fct> & <int>\\\\\n",
       "\\hline\n",
       "\t fresh fruits                  & 3792661\\\\\n",
       "\t fresh vegetables              & 3568630\\\\\n",
       "\t packaged vegetables fruits    & 1843806\\\\\n",
       "\t yogurt                        & 1507583\\\\\n",
       "\t packaged cheese               & 1021462\\\\\n",
       "\t milk                          &  923659\\\\\n",
       "\t water seltzer sparkling water &  878150\\\\\n",
       "\t chips pretzels                &  753739\\\\\n",
       "\t soy lactosefree               &  664493\\\\\n",
       "\t bread                         &  608469\\\\\n",
       "\\end{tabular}\n"
      ],
      "text/markdown": [
       "\n",
       "A tibble: 10 × 2\n",
       "\n",
       "| aisle &lt;fct&gt; | count &lt;int&gt; |\n",
       "|---|---|\n",
       "| fresh fruits                  | 3792661 |\n",
       "| fresh vegetables              | 3568630 |\n",
       "| packaged vegetables fruits    | 1843806 |\n",
       "| yogurt                        | 1507583 |\n",
       "| packaged cheese               | 1021462 |\n",
       "| milk                          |  923659 |\n",
       "| water seltzer sparkling water |  878150 |\n",
       "| chips pretzels                |  753739 |\n",
       "| soy lactosefree               |  664493 |\n",
       "| bread                         |  608469 |\n",
       "\n"
      ],
      "text/plain": [
       "   aisle                         count  \n",
       "1  fresh fruits                  3792661\n",
       "2  fresh vegetables              3568630\n",
       "3  packaged vegetables fruits    1843806\n",
       "4  yogurt                        1507583\n",
       "5  packaged cheese               1021462\n",
       "6  milk                           923659\n",
       "7  water seltzer sparkling water  878150\n",
       "8  chips pretzels                 753739\n",
       "9  soy lactosefree                664493\n",
       "10 bread                          608469"
      ]
     },
     "metadata": {
      "tags": []
     },
     "output_type": "display_data"
    }
   ],
   "source": [
    "(ten_aisle <- ais_prod_name %>% group_by(aisle) %>% summarise(count = n()) %>% arrange(desc(count)) %>% top_n(10))"
   ]
  },
  {
   "cell_type": "code",
   "execution_count": 47,
   "metadata": {
    "colab": {
     "base_uri": "https://localhost:8080/",
     "height": 497
    },
    "id": "0PrIV8Dz5UI1",
    "outputId": "7cea2d46-6afd-4d9f-dad6-4b11a41512ff"
   },
   "outputs": [
    {
     "data": {
      "image/png": "[encoded data removed]",
      "text/plain": [
       "plot without title"
      ]
     },
     "metadata": {
      "image/png": {
       "height": 480,
       "width": 1200
      },
      "tags": []
     },
     "output_type": "display_data"
    }
   ],
   "source": [
    "ggplot(ten_aisle) + geom_col(aes(x = aisle, y = count, color = aisle), fill = 'white') +  \n",
    "scale_x_discrete(guide = guide_axis(angle = 90)) + ggtitle('To 10 Best Performing Aisles') +\n",
    "theme(plot.title = element_text(color=\"red\", size=18, face=\"bold\"),\n",
    "axis.title.x = element_text(size=15, face=\"bold\"),\n",
    "axis.title.y = element_text(size=15, face=\"bold\"),\n",
    "axis.text.x = element_text(size=14),\n",
    "axis.text.y = element_text(size=14))   # edit labels & ticks"
   ]
  },
  {
   "cell_type": "markdown",
   "metadata": {
    "id": "dY1LLynn6RNr"
   },
   "source": [
    "Fresh fruits and fresh Vegetables aisles have the highest sales. Apparently people are eating healthy :)..."
   ]
  },
  {
   "cell_type": "markdown",
   "metadata": {
    "id": "ufd-mxeBLQhw"
   },
   "source": [
    "## 3.3 Top 10 best performing departments\n",
    "Joining the prods_id_ord table with dept_prods dataset will provide more details about ordered products and their respective departments."
   ]
  },
  {
   "cell_type": "code",
   "execution_count": 48,
   "metadata": {
    "colab": {
     "base_uri": "https://localhost:8080/",
     "height": 34
    },
    "id": "y2flzDYKO70q",
    "outputId": "e4f5dc11-24ca-407f-ec59-c2bacdc8294b"
   },
   "outputs": [
    {
     "data": {
      "text/html": [
       "0"
      ],
      "text/latex": [
       "0"
      ],
      "text/markdown": [
       "0"
      ],
      "text/plain": [
       "[1] 0"
      ]
     },
     "metadata": {
      "tags": []
     },
     "output_type": "display_data"
    }
   ],
   "source": [
    "dept_prod_name <- left_join(prods_id_ord, dept_prods, by = 'product_id')   # join with dept_prods\n",
    "sum(is.na(dept_prod_name)) "
   ]
  },
  {
   "cell_type": "code",
   "execution_count": 49,
   "metadata": {
    "colab": {
     "base_uri": "https://localhost:8080/",
     "height": 441
    },
    "id": "Hc2MdG-lPz2l",
    "outputId": "7642e97e-0351-4f0c-f43d-3bd8b80e444c"
   },
   "outputs": [
    {
     "name": "stderr",
     "output_type": "stream",
     "text": [
      "Selecting by count\n",
      "\n"
     ]
    },
    {
     "data": {
      "text/html": [
       "<table class=\"dataframe\">\n",
       "<caption>A tibble: 10 × 2</caption>\n",
       "<thead>\n",
       "\t<tr><th scope=col>department</th><th scope=col>count</th></tr>\n",
       "\t<tr><th scope=col>&lt;fct&gt;</th><th scope=col>&lt;int&gt;</th></tr>\n",
       "</thead>\n",
       "<tbody>\n",
       "\t<tr><td>produce        </td><td>9888378</td></tr>\n",
       "\t<tr><td>dairy eggs     </td><td>5631067</td></tr>\n",
       "\t<tr><td>snacks         </td><td>3006412</td></tr>\n",
       "\t<tr><td>beverages      </td><td>2804175</td></tr>\n",
       "\t<tr><td>frozen         </td><td>2336858</td></tr>\n",
       "\t<tr><td>pantry         </td><td>1956819</td></tr>\n",
       "\t<tr><td>bakery         </td><td>1225181</td></tr>\n",
       "\t<tr><td>canned goods   </td><td>1114857</td></tr>\n",
       "\t<tr><td>deli           </td><td>1095540</td></tr>\n",
       "\t<tr><td>dry goods pasta</td><td> 905340</td></tr>\n",
       "</tbody>\n",
       "</table>\n"
      ],
      "text/latex": [
       "A tibble: 10 × 2\n",
       "\\begin{tabular}{ll}\n",
       " department & count\\\\\n",
       " <fct> & <int>\\\\\n",
       "\\hline\n",
       "\t produce         & 9888378\\\\\n",
       "\t dairy eggs      & 5631067\\\\\n",
       "\t snacks          & 3006412\\\\\n",
       "\t beverages       & 2804175\\\\\n",
       "\t frozen          & 2336858\\\\\n",
       "\t pantry          & 1956819\\\\\n",
       "\t bakery          & 1225181\\\\\n",
       "\t canned goods    & 1114857\\\\\n",
       "\t deli            & 1095540\\\\\n",
       "\t dry goods pasta &  905340\\\\\n",
       "\\end{tabular}\n"
      ],
      "text/markdown": [
       "\n",
       "A tibble: 10 × 2\n",
       "\n",
       "| department &lt;fct&gt; | count &lt;int&gt; |\n",
       "|---|---|\n",
       "| produce         | 9888378 |\n",
       "| dairy eggs      | 5631067 |\n",
       "| snacks          | 3006412 |\n",
       "| beverages       | 2804175 |\n",
       "| frozen          | 2336858 |\n",
       "| pantry          | 1956819 |\n",
       "| bakery          | 1225181 |\n",
       "| canned goods    | 1114857 |\n",
       "| deli            | 1095540 |\n",
       "| dry goods pasta |  905340 |\n",
       "\n"
      ],
      "text/plain": [
       "   department      count  \n",
       "1  produce         9888378\n",
       "2  dairy eggs      5631067\n",
       "3  snacks          3006412\n",
       "4  beverages       2804175\n",
       "5  frozen          2336858\n",
       "6  pantry          1956819\n",
       "7  bakery          1225181\n",
       "8  canned goods    1114857\n",
       "9  deli            1095540\n",
       "10 dry goods pasta  905340"
      ]
     },
     "metadata": {
      "tags": []
     },
     "output_type": "display_data"
    }
   ],
   "source": [
    "(ten_depts <- dept_prod_name %>% group_by(department) %>% summarise(count = n()) %>% arrange(desc(count)) %>% top_n(10))"
   ]
  },
  {
   "cell_type": "code",
   "execution_count": 50,
   "metadata": {
    "colab": {
     "base_uri": "https://localhost:8080/",
     "height": 497
    },
    "id": "qUU18qtyQLCg",
    "outputId": "aad69f27-f3a5-4cbe-97e2-271616490bb1"
   },
   "outputs": [
    {
     "data": {
      "image/png": "[encoded data removed]",
      "text/plain": [
       "plot without title"
      ]
     },
     "metadata": {
      "image/png": {
       "height": 480,
       "width": 1200
      },
      "tags": []
     },
     "output_type": "display_data"
    }
   ],
   "source": [
    "ggplot(ten_depts) + geom_col(aes(x = department, y = count, fill = department)) +  \n",
    "scale_x_discrete(guide = guide_axis(angle = 90)) + ggtitle('To 10 Best Performing Departments') +\n",
    "theme(plot.title = element_text(color=\"red\", size=18, face=\"bold\"),\n",
    "axis.title.x = element_text(size=15, face=\"bold\"),\n",
    "axis.title.y = element_text(size=15, face=\"bold\"),\n",
    "axis.text.x = element_text(size=14),\n",
    "axis.text.y = element_text(size=14))   # edit labels & ticks"
   ]
  },
  {
   "cell_type": "markdown",
   "metadata": {
    "id": "pTspHq9NQ2Qs"
   },
   "source": [
    "## 3.4 Top 15 best performing products\n",
    "To achieve this, group_by, count and arrange the product_name column of either the dept_prod_name or aisle_prod_name dataset."
   ]
  },
  {
   "cell_type": "code",
   "execution_count": 51,
   "metadata": {
    "colab": {
     "base_uri": "https://localhost:8080/",
     "height": 596
    },
    "id": "lK5KC5VZS3nm",
    "outputId": "56b61069-6d90-4a73-f905-fd274517e0f8"
   },
   "outputs": [
    {
     "name": "stderr",
     "output_type": "stream",
     "text": [
      "Selecting by count\n",
      "\n"
     ]
    },
    {
     "data": {
      "text/html": [
       "<table class=\"dataframe\">\n",
       "<caption>A tibble: 15 × 2</caption>\n",
       "<thead>\n",
       "\t<tr><th scope=col>product_name</th><th scope=col>count</th></tr>\n",
       "\t<tr><th scope=col>&lt;fct&gt;</th><th scope=col>&lt;int&gt;</th></tr>\n",
       "</thead>\n",
       "<tbody>\n",
       "\t<tr><td>Banana                </td><td>491291</td></tr>\n",
       "\t<tr><td>Bag of Organic Bananas</td><td>394930</td></tr>\n",
       "\t<tr><td>Organic Strawberries  </td><td>275577</td></tr>\n",
       "\t<tr><td>Organic Baby Spinach  </td><td>251705</td></tr>\n",
       "\t<tr><td>Organic Hass Avocado  </td><td>220877</td></tr>\n",
       "\t<tr><td>Organic Avocado       </td><td>184224</td></tr>\n",
       "\t<tr><td>Large Lemon           </td><td>160792</td></tr>\n",
       "\t<tr><td>Strawberries          </td><td>149445</td></tr>\n",
       "\t<tr><td>Limes                 </td><td>146660</td></tr>\n",
       "\t<tr><td>Organic Whole Milk    </td><td>142813</td></tr>\n",
       "\t<tr><td>Organic Raspberries   </td><td>142603</td></tr>\n",
       "\t<tr><td>Organic Yellow Onion  </td><td>117716</td></tr>\n",
       "\t<tr><td>Organic Garlic        </td><td>113936</td></tr>\n",
       "\t<tr><td>Organic Zucchini      </td><td>109412</td></tr>\n",
       "\t<tr><td>Organic Blueberries   </td><td>105026</td></tr>\n",
       "</tbody>\n",
       "</table>\n"
      ],
      "text/latex": [
       "A tibble: 15 × 2\n",
       "\\begin{tabular}{ll}\n",
       " product\\_name & count\\\\\n",
       " <fct> & <int>\\\\\n",
       "\\hline\n",
       "\t Banana                 & 491291\\\\\n",
       "\t Bag of Organic Bananas & 394930\\\\\n",
       "\t Organic Strawberries   & 275577\\\\\n",
       "\t Organic Baby Spinach   & 251705\\\\\n",
       "\t Organic Hass Avocado   & 220877\\\\\n",
       "\t Organic Avocado        & 184224\\\\\n",
       "\t Large Lemon            & 160792\\\\\n",
       "\t Strawberries           & 149445\\\\\n",
       "\t Limes                  & 146660\\\\\n",
       "\t Organic Whole Milk     & 142813\\\\\n",
       "\t Organic Raspberries    & 142603\\\\\n",
       "\t Organic Yellow Onion   & 117716\\\\\n",
       "\t Organic Garlic         & 113936\\\\\n",
       "\t Organic Zucchini       & 109412\\\\\n",
       "\t Organic Blueberries    & 105026\\\\\n",
       "\\end{tabular}\n"
      ],
      "text/markdown": [
       "\n",
       "A tibble: 15 × 2\n",
       "\n",
       "| product_name &lt;fct&gt; | count &lt;int&gt; |\n",
       "|---|---|\n",
       "| Banana                 | 491291 |\n",
       "| Bag of Organic Bananas | 394930 |\n",
       "| Organic Strawberries   | 275577 |\n",
       "| Organic Baby Spinach   | 251705 |\n",
       "| Organic Hass Avocado   | 220877 |\n",
       "| Organic Avocado        | 184224 |\n",
       "| Large Lemon            | 160792 |\n",
       "| Strawberries           | 149445 |\n",
       "| Limes                  | 146660 |\n",
       "| Organic Whole Milk     | 142813 |\n",
       "| Organic Raspberries    | 142603 |\n",
       "| Organic Yellow Onion   | 117716 |\n",
       "| Organic Garlic         | 113936 |\n",
       "| Organic Zucchini       | 109412 |\n",
       "| Organic Blueberries    | 105026 |\n",
       "\n"
      ],
      "text/plain": [
       "   product_name           count \n",
       "1  Banana                 491291\n",
       "2  Bag of Organic Bananas 394930\n",
       "3  Organic Strawberries   275577\n",
       "4  Organic Baby Spinach   251705\n",
       "5  Organic Hass Avocado   220877\n",
       "6  Organic Avocado        184224\n",
       "7  Large Lemon            160792\n",
       "8  Strawberries           149445\n",
       "9  Limes                  146660\n",
       "10 Organic Whole Milk     142813\n",
       "11 Organic Raspberries    142603\n",
       "12 Organic Yellow Onion   117716\n",
       "13 Organic Garlic         113936\n",
       "14 Organic Zucchini       109412\n",
       "15 Organic Blueberries    105026"
      ]
     },
     "metadata": {
      "tags": []
     },
     "output_type": "display_data"
    }
   ],
   "source": [
    "(fif_prods <- dept_prod_name %>% group_by(product_name) %>% summarise(count = n()) %>% arrange(desc(count)) %>% top_n(15))"
   ]
  },
  {
   "cell_type": "code",
   "execution_count": 52,
   "metadata": {
    "colab": {
     "base_uri": "https://localhost:8080/",
     "height": 497
    },
    "id": "DTk_It3ZTEsz",
    "outputId": "a2d97d8d-76f0-41bb-e95d-0c91393efd58"
   },
   "outputs": [
    {
     "data": {
      "image/png": "[encoded data removed]",
      "text/plain": [
       "plot without title"
      ]
     },
     "metadata": {
      "image/png": {
       "height": 480,
       "width": 1200
      },
      "tags": []
     },
     "output_type": "display_data"
    }
   ],
   "source": [
    "#options(repr.plot.width = 10, repr.plot.height = 10)\n",
    "ggplot(fif_prods) + geom_col(aes(x = product_name, y = count)) + ggtitle('To 15 Best Performing Departments') +\n",
    "theme(plot.title = element_text(color=\"red\", size=18, face=\"bold\"),\n",
    "axis.title.x = element_text(size=15, face=\"bold\"),\n",
    "axis.title.y = element_text(size=15, face=\"bold\"),\n",
    "axis.text.x = element_text(size=14),\n",
    "axis.text.y = element_text(size=14)) +\n",
    "coord_flip()  # edit labels & ticks"
   ]
  },
  {
   "cell_type": "markdown",
   "metadata": {
    "id": "Phf9l7EvVYMV"
   },
   "source": [
    "Top 15 performing products are all organic. "
   ]
  },
  {
   "cell_type": "markdown",
   "metadata": {
    "id": "M5nSt9N1bU5r"
   },
   "source": [
    "##3.5 Which customers have bought the highest number of products?"
   ]
  },
  {
   "cell_type": "code",
   "execution_count": 53,
   "metadata": {
    "colab": {
     "base_uri": "https://localhost:8080/",
     "height": 441
    },
    "id": "cVMsoW2zboHX",
    "outputId": "17aeb30e-d4dd-46e3-a9af-5055569e1f1b"
   },
   "outputs": [
    {
     "name": "stderr",
     "output_type": "stream",
     "text": [
      "Selecting by count\n",
      "\n"
     ]
    },
    {
     "data": {
      "text/html": [
       "<table class=\"dataframe\">\n",
       "<caption>A tibble: 10 × 2</caption>\n",
       "<thead>\n",
       "\t<tr><th scope=col>user_id</th><th scope=col>count</th></tr>\n",
       "\t<tr><th scope=col>&lt;int&gt;</th><th scope=col>&lt;int&gt;</th></tr>\n",
       "</thead>\n",
       "<tbody>\n",
       "\t<tr><td>201268</td><td>3725</td></tr>\n",
       "\t<tr><td>129928</td><td>3689</td></tr>\n",
       "\t<tr><td>164055</td><td>3089</td></tr>\n",
       "\t<tr><td>176478</td><td>2952</td></tr>\n",
       "\t<tr><td>186704</td><td>2936</td></tr>\n",
       "\t<tr><td>137629</td><td>2931</td></tr>\n",
       "\t<tr><td>182401</td><td>2929</td></tr>\n",
       "\t<tr><td> 33731</td><td>2912</td></tr>\n",
       "\t<tr><td>108187</td><td>2760</td></tr>\n",
       "\t<tr><td>  4694</td><td>2735</td></tr>\n",
       "</tbody>\n",
       "</table>\n"
      ],
      "text/latex": [
       "A tibble: 10 × 2\n",
       "\\begin{tabular}{ll}\n",
       " user\\_id & count\\\\\n",
       " <int> & <int>\\\\\n",
       "\\hline\n",
       "\t 201268 & 3725\\\\\n",
       "\t 129928 & 3689\\\\\n",
       "\t 164055 & 3089\\\\\n",
       "\t 176478 & 2952\\\\\n",
       "\t 186704 & 2936\\\\\n",
       "\t 137629 & 2931\\\\\n",
       "\t 182401 & 2929\\\\\n",
       "\t  33731 & 2912\\\\\n",
       "\t 108187 & 2760\\\\\n",
       "\t   4694 & 2735\\\\\n",
       "\\end{tabular}\n"
      ],
      "text/markdown": [
       "\n",
       "A tibble: 10 × 2\n",
       "\n",
       "| user_id &lt;int&gt; | count &lt;int&gt; |\n",
       "|---|---|\n",
       "| 201268 | 3725 |\n",
       "| 129928 | 3689 |\n",
       "| 164055 | 3089 |\n",
       "| 176478 | 2952 |\n",
       "| 186704 | 2936 |\n",
       "| 137629 | 2931 |\n",
       "| 182401 | 2929 |\n",
       "|  33731 | 2912 |\n",
       "| 108187 | 2760 |\n",
       "|   4694 | 2735 |\n",
       "\n"
      ],
      "text/plain": [
       "   user_id count\n",
       "1  201268  3725 \n",
       "2  129928  3689 \n",
       "3  164055  3089 \n",
       "4  176478  2952 \n",
       "5  186704  2936 \n",
       "6  137629  2931 \n",
       "7  182401  2929 \n",
       "8   33731  2912 \n",
       "9  108187  2760 \n",
       "10   4694  2735 "
      ]
     },
     "metadata": {
      "tags": []
     },
     "output_type": "display_data"
    }
   ],
   "source": [
    "dept_prod_name %>% group_by(user_id) %>% summarise(count = n()) %>% arrange(desc(count)) %>% top_n(10)"
   ]
  },
  {
   "cell_type": "markdown",
   "metadata": {
    "id": "6bqZK2R_b4Kf"
   },
   "source": [
    "These users deserve awards.They are the top 10 customers that have bought the most products. Unfortunately the dataset provided has been anonymized, hence no further details about the users. "
   ]
  },
  {
   "cell_type": "markdown",
   "metadata": {
    "id": "BjuXt7UocKb1"
   },
   "source": [
    "## 3.6 What days do people shop the most?"
   ]
  },
  {
   "cell_type": "code",
   "execution_count": 54,
   "metadata": {
    "colab": {
     "base_uri": "https://localhost:8080/",
     "height": 314
    },
    "id": "lKwiRBii1Sw5",
    "outputId": "9e504417-572a-48f4-b9f8-1592e70467ae"
   },
   "outputs": [
    {
     "data": {
      "text/html": [
       "<table class=\"dataframe\">\n",
       "<caption>A tibble: 7 × 2</caption>\n",
       "<thead>\n",
       "\t<tr><th></th><th scope=col>order_dow</th><th scope=col>count</th></tr>\n",
       "\t<tr><th></th><th scope=col>&lt;int&gt;</th><th scope=col>&lt;int&gt;</th></tr>\n",
       "</thead>\n",
       "<tbody>\n",
       "\t<tr><th scope=row>1</th><td>0</td><td>585237</td></tr>\n",
       "\t<tr><th scope=row>2</th><td>1</td><td>576377</td></tr>\n",
       "\t<tr><th scope=row>3</th><td>2</td><td>458074</td></tr>\n",
       "\t<tr><th scope=row>4</th><td>3</td><td>428087</td></tr>\n",
       "\t<tr><th scope=row>5</th><td>4</td><td>417171</td></tr>\n",
       "\t<tr><th scope=row>6</th><td>5</td><td>443388</td></tr>\n",
       "\t<tr><th scope=row>7</th><td>6</td><td>437749</td></tr>\n",
       "</tbody>\n",
       "</table>\n"
      ],
      "text/latex": [
       "A tibble: 7 × 2\n",
       "\\begin{tabular}{r|ll}\n",
       "  & order\\_dow & count\\\\\n",
       "  & <int> & <int>\\\\\n",
       "\\hline\n",
       "\t1 & 0 & 585237\\\\\n",
       "\t2 & 1 & 576377\\\\\n",
       "\t3 & 2 & 458074\\\\\n",
       "\t4 & 3 & 428087\\\\\n",
       "\t5 & 4 & 417171\\\\\n",
       "\t6 & 5 & 443388\\\\\n",
       "\t7 & 6 & 437749\\\\\n",
       "\\end{tabular}\n"
      ],
      "text/markdown": [
       "\n",
       "A tibble: 7 × 2\n",
       "\n",
       "| <!--/--> | order_dow &lt;int&gt; | count &lt;int&gt; |\n",
       "|---|---|---|\n",
       "| 1 | 0 | 585237 |\n",
       "| 2 | 1 | 576377 |\n",
       "| 3 | 2 | 458074 |\n",
       "| 4 | 3 | 428087 |\n",
       "| 5 | 4 | 417171 |\n",
       "| 6 | 5 | 443388 |\n",
       "| 7 | 6 | 437749 |\n",
       "\n"
      ],
      "text/plain": [
       "  order_dow count \n",
       "1 0         585237\n",
       "2 1         576377\n",
       "3 2         458074\n",
       "4 3         428087\n",
       "5 4         417171\n",
       "6 5         443388\n",
       "7 6         437749"
      ]
     },
     "metadata": {
      "tags": []
     },
     "output_type": "display_data"
    }
   ],
   "source": [
    "(shop_days <-orders_df %>% group_by(order_dow) %>% summarise(count = n()))"
   ]
  },
  {
   "cell_type": "code",
   "execution_count": 55,
   "metadata": {
    "id": "RYv7ZKko167n"
   },
   "outputs": [],
   "source": [
    "# convert numbers in order_dow to days of the week\n",
    "shop_days$order_dow[shop_days$order_dow == 0] <- 'Sunday'\n",
    "shop_days$order_dow[shop_days$order_dow == 1] <- 'Monday'\n",
    "shop_days$order_dow[shop_days$order_dow == 2] <- 'Tuesday'\n",
    "shop_days$order_dow[shop_days$order_dow == 3] <- 'Wednessday'\n",
    "shop_days$order_dow[shop_days$order_dow == 4] <- 'Thursday'\n",
    "shop_days$order_dow[shop_days$order_dow == 5] <- 'Friday'\n",
    "shop_days$order_dow[shop_days$order_dow == 6] <- 'Saturday'"
   ]
  },
  {
   "cell_type": "code",
   "execution_count": 56,
   "metadata": {
    "colab": {
     "base_uri": "https://localhost:8080/",
     "height": 497
    },
    "id": "OeC93-Rb3FzP",
    "outputId": "fe8ebb40-7527-4cb3-e376-a5709f7c053e"
   },
   "outputs": [
    {
     "data": {
      "image/png": "[encoded data removed]",
      "text/plain": [
       "plot without title"
      ]
     },
     "metadata": {
      "image/png": {
       "height": 480,
       "width": 1200
      },
      "tags": []
     },
     "output_type": "display_data"
    }
   ],
   "source": [
    "#options(repr.plot.width = 10, repr.plot.height = 10)\n",
    "ggplot(shop_days) + geom_col(aes(x = order_dow, y = count, fill = order_dow)) + ggtitle('Days for Ordering') + xlab('Days') + \n",
    "theme(plot.title = element_text(color=\"red\", size=18, face=\"bold\"),\n",
    "axis.title.x = element_text(size=15, face=\"bold\"),\n",
    "axis.title.y = element_text(size=15, face=\"bold\"),\n",
    "axis.text.x = element_text(size=14),\n",
    "axis.text.y = element_text(size=14)) +\n",
    "coord_flip() + scale_fill_brewer(palette = \"Dark2\")# edit labels & ticks"
   ]
  },
  {
   "cell_type": "markdown",
   "metadata": {
    "id": "NDqMR8dw41Ux"
   },
   "source": [
    "## 3.7 What hours do people shop the most?"
   ]
  },
  {
   "cell_type": "code",
   "execution_count": 57,
   "metadata": {
    "colab": {
     "base_uri": "https://localhost:8080/",
     "height": 841
    },
    "id": "9j3ZGc4NdZ1O",
    "outputId": "0935bf2b-3acf-4aa4-c854-237e746b0d53"
   },
   "outputs": [
    {
     "data": {
      "text/html": [
       "<table class=\"dataframe\">\n",
       "<caption>A tibble: 24 × 2</caption>\n",
       "<thead>\n",
       "\t<tr><th scope=col>order_hour_of_day</th><th scope=col>count</th></tr>\n",
       "\t<tr><th scope=col>&lt;int&gt;</th><th scope=col>&lt;int&gt;</th></tr>\n",
       "</thead>\n",
       "<tbody>\n",
       "\t<tr><td>10</td><td>282470</td></tr>\n",
       "\t<tr><td>11</td><td>278616</td></tr>\n",
       "\t<tr><td>15</td><td>277207</td></tr>\n",
       "\t<tr><td>14</td><td>276659</td></tr>\n",
       "\t<tr><td>13</td><td>271885</td></tr>\n",
       "\t<tr><td>12</td><td>266828</td></tr>\n",
       "\t<tr><td>16</td><td>266444</td></tr>\n",
       "\t<tr><td> 9</td><td>252529</td></tr>\n",
       "\t<tr><td>17</td><td>223433</td></tr>\n",
       "\t<tr><td>18</td><td>178556</td></tr>\n",
       "\t<tr><td> 8</td><td>174664</td></tr>\n",
       "\t<tr><td>19</td><td>137341</td></tr>\n",
       "\t<tr><td>20</td><td>102087</td></tr>\n",
       "\t<tr><td> 7</td><td> 90032</td></tr>\n",
       "\t<tr><td>21</td><td> 76486</td></tr>\n",
       "\t<tr><td>22</td><td> 59982</td></tr>\n",
       "\t<tr><td>23</td><td> 39139</td></tr>\n",
       "\t<tr><td> 6</td><td> 29913</td></tr>\n",
       "\t<tr><td> 0</td><td> 22224</td></tr>\n",
       "\t<tr><td> 1</td><td> 12103</td></tr>\n",
       "\t<tr><td> 5</td><td>  9374</td></tr>\n",
       "\t<tr><td> 2</td><td>  7375</td></tr>\n",
       "\t<tr><td> 4</td><td>  5393</td></tr>\n",
       "\t<tr><td> 3</td><td>  5343</td></tr>\n",
       "</tbody>\n",
       "</table>\n"
      ],
      "text/latex": [
       "A tibble: 24 × 2\n",
       "\\begin{tabular}{ll}\n",
       " order\\_hour\\_of\\_day & count\\\\\n",
       " <int> & <int>\\\\\n",
       "\\hline\n",
       "\t 10 & 282470\\\\\n",
       "\t 11 & 278616\\\\\n",
       "\t 15 & 277207\\\\\n",
       "\t 14 & 276659\\\\\n",
       "\t 13 & 271885\\\\\n",
       "\t 12 & 266828\\\\\n",
       "\t 16 & 266444\\\\\n",
       "\t  9 & 252529\\\\\n",
       "\t 17 & 223433\\\\\n",
       "\t 18 & 178556\\\\\n",
       "\t  8 & 174664\\\\\n",
       "\t 19 & 137341\\\\\n",
       "\t 20 & 102087\\\\\n",
       "\t  7 &  90032\\\\\n",
       "\t 21 &  76486\\\\\n",
       "\t 22 &  59982\\\\\n",
       "\t 23 &  39139\\\\\n",
       "\t  6 &  29913\\\\\n",
       "\t  0 &  22224\\\\\n",
       "\t  1 &  12103\\\\\n",
       "\t  5 &   9374\\\\\n",
       "\t  2 &   7375\\\\\n",
       "\t  4 &   5393\\\\\n",
       "\t  3 &   5343\\\\\n",
       "\\end{tabular}\n"
      ],
      "text/markdown": [
       "\n",
       "A tibble: 24 × 2\n",
       "\n",
       "| order_hour_of_day &lt;int&gt; | count &lt;int&gt; |\n",
       "|---|---|\n",
       "| 10 | 282470 |\n",
       "| 11 | 278616 |\n",
       "| 15 | 277207 |\n",
       "| 14 | 276659 |\n",
       "| 13 | 271885 |\n",
       "| 12 | 266828 |\n",
       "| 16 | 266444 |\n",
       "|  9 | 252529 |\n",
       "| 17 | 223433 |\n",
       "| 18 | 178556 |\n",
       "|  8 | 174664 |\n",
       "| 19 | 137341 |\n",
       "| 20 | 102087 |\n",
       "|  7 |  90032 |\n",
       "| 21 |  76486 |\n",
       "| 22 |  59982 |\n",
       "| 23 |  39139 |\n",
       "|  6 |  29913 |\n",
       "|  0 |  22224 |\n",
       "|  1 |  12103 |\n",
       "|  5 |   9374 |\n",
       "|  2 |   7375 |\n",
       "|  4 |   5393 |\n",
       "|  3 |   5343 |\n",
       "\n"
      ],
      "text/plain": [
       "   order_hour_of_day count \n",
       "1  10                282470\n",
       "2  11                278616\n",
       "3  15                277207\n",
       "4  14                276659\n",
       "5  13                271885\n",
       "6  12                266828\n",
       "7  16                266444\n",
       "8   9                252529\n",
       "9  17                223433\n",
       "10 18                178556\n",
       "11  8                174664\n",
       "12 19                137341\n",
       "13 20                102087\n",
       "14  7                 90032\n",
       "15 21                 76486\n",
       "16 22                 59982\n",
       "17 23                 39139\n",
       "18  6                 29913\n",
       "19  0                 22224\n",
       "20  1                 12103\n",
       "21  5                  9374\n",
       "22  2                  7375\n",
       "23  4                  5393\n",
       "24  3                  5343"
      ]
     },
     "metadata": {
      "tags": []
     },
     "output_type": "display_data"
    }
   ],
   "source": [
    "(shop_hours<-orders_df %>% group_by(order_hour_of_day) %>% summarise(count = n())%>% arrange(desc(count)))"
   ]
  },
  {
   "cell_type": "code",
   "execution_count": 58,
   "metadata": {
    "colab": {
     "base_uri": "https://localhost:8080/",
     "height": 377
    },
    "id": "qWNVhqzCdplL",
    "outputId": "b95079f4-dd05-4f7f-848f-63954c101f1e"
   },
   "outputs": [
    {
     "data": {
      "image/png": "[encoded data removed]",
      "text/plain": [
       "plot without title"
      ]
     },
     "metadata": {
      "image/png": {
       "height": 360,
       "width": 600
      },
      "tags": []
     },
     "output_type": "display_data"
    }
   ],
   "source": [
    "options(repr.plot.width = 10, repr.plot.height = 6)\n",
    "ggplot(shop_hours) + geom_col(aes(x = factor(order_hour_of_day) , y = count), fill = 'white', color = 'brown') + ggtitle('Order Hour of the Day') + xlab('Hours') + \n",
    "theme(plot.title = element_text(color=\"red\", size=18, face=\"bold\"),\n",
    "axis.title.x = element_text(size=15, face=\"bold\"),\n",
    "axis.title.y = element_text(size=15, face=\"bold\"),\n",
    "axis.text.x = element_text(size=14),\n",
    "axis.text.y = element_text(size=14)) # edit labels & ticks"
   ]
  },
  {
   "cell_type": "code",
   "execution_count": 59,
   "metadata": {
    "colab": {
     "base_uri": "https://localhost:8080/",
     "height": 145
    },
    "id": "f6WCa6fYfZco",
    "outputId": "bc006045-4b73-408d-c0c8-039bab1d8654"
   },
   "outputs": [
    {
     "data": {
      "text/html": [
       "<table class=\"dataframe\">\n",
       "<caption>A data.frame: 1 × 1</caption>\n",
       "<thead>\n",
       "\t<tr><th scope=col>sum(count)</th></tr>\n",
       "\t<tr><th scope=col>&lt;dbl&gt;</th></tr>\n",
       "</thead>\n",
       "<tbody>\n",
       "\t<tr><td>57</td></tr>\n",
       "</tbody>\n",
       "</table>\n"
      ],
      "text/latex": [
       "A data.frame: 1 × 1\n",
       "\\begin{tabular}{l}\n",
       " sum(count)\\\\\n",
       " <dbl>\\\\\n",
       "\\hline\n",
       "\t 57\\\\\n",
       "\\end{tabular}\n"
      ],
      "text/markdown": [
       "\n",
       "A data.frame: 1 × 1\n",
       "\n",
       "| sum(count) &lt;dbl&gt; |\n",
       "|---|\n",
       "| 57 |\n",
       "\n"
      ],
      "text/plain": [
       "  sum(count)\n",
       "1 57        "
      ]
     },
     "metadata": {
      "tags": []
     },
     "output_type": "display_data"
    }
   ],
   "source": [
    "round((shop_hours %>% filter(order_hour_of_day %in% c(10, 11, 15, 14, 13, 12, 16)) %>% summarise(sum(count)))/sum(shop_hours$count)*100)"
   ]
  },
  {
   "cell_type": "markdown",
   "metadata": {
    "id": "si8lDO1Eebdn"
   },
   "source": [
    "About 57% of all orders occur between 9am and 4pm."
   ]
  },
  {
   "cell_type": "markdown",
   "metadata": {
    "id": "Pa4B8-aBk3O2"
   },
   "source": [
    "## 3.8 What products are people buying in the peak hours.\n",
    "Focusing on the peak hours mentioned above, this analysis will give us insight into the top 10 purchased products. To achieve this, the hours between 10am and 4pm will be filtered from the dept_prod_name dataset, followed by grouping, counting and arranging by product_name. "
   ]
  },
  {
   "cell_type": "code",
   "execution_count": 60,
   "metadata": {
    "colab": {
     "base_uri": "https://localhost:8080/",
     "height": 441
    },
    "id": "3opDJOPpmqPQ",
    "outputId": "587ac23a-bd13-4b55-c32c-d3f237efc498"
   },
   "outputs": [
    {
     "name": "stderr",
     "output_type": "stream",
     "text": [
      "Selecting by count\n",
      "\n"
     ]
    },
    {
     "data": {
      "text/html": [
       "<table class=\"dataframe\">\n",
       "<caption>A tibble: 10 × 2</caption>\n",
       "<thead>\n",
       "\t<tr><th scope=col>product_name</th><th scope=col>count</th></tr>\n",
       "\t<tr><th scope=col>&lt;fct&gt;</th><th scope=col>&lt;int&gt;</th></tr>\n",
       "</thead>\n",
       "<tbody>\n",
       "\t<tr><td>Banana                </td><td>276105</td></tr>\n",
       "\t<tr><td>Bag of Organic Bananas</td><td>222173</td></tr>\n",
       "\t<tr><td>Organic Strawberries  </td><td>153526</td></tr>\n",
       "\t<tr><td>Organic Baby Spinach  </td><td>143840</td></tr>\n",
       "\t<tr><td>Organic Hass Avocado  </td><td>126310</td></tr>\n",
       "\t<tr><td>Organic Avocado       </td><td>106897</td></tr>\n",
       "\t<tr><td>Large Lemon           </td><td> 95342</td></tr>\n",
       "\t<tr><td>Limes                 </td><td> 87785</td></tr>\n",
       "\t<tr><td>Strawberries          </td><td> 84286</td></tr>\n",
       "\t<tr><td>Organic Raspberries   </td><td> 78893</td></tr>\n",
       "</tbody>\n",
       "</table>\n"
      ],
      "text/latex": [
       "A tibble: 10 × 2\n",
       "\\begin{tabular}{ll}\n",
       " product\\_name & count\\\\\n",
       " <fct> & <int>\\\\\n",
       "\\hline\n",
       "\t Banana                 & 276105\\\\\n",
       "\t Bag of Organic Bananas & 222173\\\\\n",
       "\t Organic Strawberries   & 153526\\\\\n",
       "\t Organic Baby Spinach   & 143840\\\\\n",
       "\t Organic Hass Avocado   & 126310\\\\\n",
       "\t Organic Avocado        & 106897\\\\\n",
       "\t Large Lemon            &  95342\\\\\n",
       "\t Limes                  &  87785\\\\\n",
       "\t Strawberries           &  84286\\\\\n",
       "\t Organic Raspberries    &  78893\\\\\n",
       "\\end{tabular}\n"
      ],
      "text/markdown": [
       "\n",
       "A tibble: 10 × 2\n",
       "\n",
       "| product_name &lt;fct&gt; | count &lt;int&gt; |\n",
       "|---|---|\n",
       "| Banana                 | 276105 |\n",
       "| Bag of Organic Bananas | 222173 |\n",
       "| Organic Strawberries   | 153526 |\n",
       "| Organic Baby Spinach   | 143840 |\n",
       "| Organic Hass Avocado   | 126310 |\n",
       "| Organic Avocado        | 106897 |\n",
       "| Large Lemon            |  95342 |\n",
       "| Limes                  |  87785 |\n",
       "| Strawberries           |  84286 |\n",
       "| Organic Raspberries    |  78893 |\n",
       "\n"
      ],
      "text/plain": [
       "   product_name           count \n",
       "1  Banana                 276105\n",
       "2  Bag of Organic Bananas 222173\n",
       "3  Organic Strawberries   153526\n",
       "4  Organic Baby Spinach   143840\n",
       "5  Organic Hass Avocado   126310\n",
       "6  Organic Avocado        106897\n",
       "7  Large Lemon             95342\n",
       "8  Limes                   87785\n",
       "9  Strawberries            84286\n",
       "10 Organic Raspberries     78893"
      ]
     },
     "metadata": {
      "tags": []
     },
     "output_type": "display_data"
    }
   ],
   "source": [
    "# Using the dept_prod_name filter out hours 10am to 4pm\n",
    "dept_prod_name %>%filter(order_hour_of_day %in% c(10, 11, 15, 14, 13, 12, 16)) %>% \n",
    "  group_by(product_name) %>% \n",
    "    summarise(count = n()) %>% \n",
    "      arrange(desc(count)) %>%\n",
    "        top_n(10)"
   ]
  },
  {
   "cell_type": "markdown",
   "metadata": {
    "id": "HacGTq8xfIBy"
   },
   "source": [
    "Very similar to overall top most purchased products except for limes and strawberries that switched position. Similarly, organic Raspberries took the position of Organic Whole Milk."
   ]
  },
  {
   "cell_type": "markdown",
   "metadata": {
    "id": "hE7UCvfVkDR_"
   },
   "source": [
    "## 3.9 Basket size Analysis\n",
    "This analysis seeks to understand the most frequent number of items per order."
   ]
  },
  {
   "cell_type": "code",
   "execution_count": 61,
   "metadata": {
    "colab": {
     "base_uri": "https://localhost:8080/",
     "height": 283
    },
    "id": "BwPiN1fYkVZO",
    "outputId": "76d6d427-3d0b-426d-9ca8-74a22a82750c"
   },
   "outputs": [
    {
     "data": {
      "text/html": [
       "<table class=\"dataframe\">\n",
       "<caption>A tibble: 6 × 2</caption>\n",
       "<thead>\n",
       "\t<tr><th scope=col>order_id</th><th scope=col>product_number</th></tr>\n",
       "\t<tr><th scope=col>&lt;int&gt;</th><th scope=col>&lt;int&gt;</th></tr>\n",
       "</thead>\n",
       "<tbody>\n",
       "\t<tr><td>1564244</td><td>145</td></tr>\n",
       "\t<tr><td> 790903</td><td>137</td></tr>\n",
       "\t<tr><td>  61355</td><td>127</td></tr>\n",
       "\t<tr><td>2970392</td><td>121</td></tr>\n",
       "\t<tr><td>2069920</td><td>116</td></tr>\n",
       "\t<tr><td>3308010</td><td>115</td></tr>\n",
       "</tbody>\n",
       "</table>\n"
      ],
      "text/latex": [
       "A tibble: 6 × 2\n",
       "\\begin{tabular}{ll}\n",
       " order\\_id & product\\_number\\\\\n",
       " <int> & <int>\\\\\n",
       "\\hline\n",
       "\t 1564244 & 145\\\\\n",
       "\t  790903 & 137\\\\\n",
       "\t   61355 & 127\\\\\n",
       "\t 2970392 & 121\\\\\n",
       "\t 2069920 & 116\\\\\n",
       "\t 3308010 & 115\\\\\n",
       "\\end{tabular}\n"
      ],
      "text/markdown": [
       "\n",
       "A tibble: 6 × 2\n",
       "\n",
       "| order_id &lt;int&gt; | product_number &lt;int&gt; |\n",
       "|---|---|\n",
       "| 1564244 | 145 |\n",
       "|  790903 | 137 |\n",
       "|   61355 | 127 |\n",
       "| 2970392 | 121 |\n",
       "| 2069920 | 116 |\n",
       "| 3308010 | 115 |\n",
       "\n"
      ],
      "text/plain": [
       "  order_id product_number\n",
       "1 1564244  145           \n",
       "2  790903  137           \n",
       "3   61355  127           \n",
       "4 2970392  121           \n",
       "5 2069920  116           \n",
       "6 3308010  115           "
      ]
     },
     "metadata": {
      "tags": []
     },
     "output_type": "display_data"
    }
   ],
   "source": [
    "bask_size <- dept_prod_name %>% group_by(order_id) %>% summarise (product_number = n()) %>% arrange(desc(product_number))\n",
    "head(bask_size)"
   ]
  },
  {
   "cell_type": "markdown",
   "metadata": {
    "id": "trZFbaJaq0oQ"
   },
   "source": [
    "These are the order Ids with the most products."
   ]
  },
  {
   "cell_type": "code",
   "execution_count": 62,
   "metadata": {
    "colab": {
     "base_uri": "https://localhost:8080/",
     "height": 497
    },
    "id": "EIYnpNH9sEmp",
    "outputId": "af41851f-14cd-4f77-8568-195927117abf"
   },
   "outputs": [
    {
     "data": {
      "image/png": "[encoded data removed]",
      "text/plain": [
       "plot without title"
      ]
     },
     "metadata": {
      "image/png": {
       "height": 480,
       "width": 1200
      },
      "tags": []
     },
     "output_type": "display_data"
    }
   ],
   "source": [
    "options(repr.plot.width = 20, repr.plot.height = 8)\n",
    "ggplot(bask_size) + geom_bar(aes(x = factor(product_number)), fill = 'white', color = 'purple') + ggtitle('Frequency Distribution of Products') +\n",
    "xlab('Product Number')+  scale_x_discrete(guide = guide_axis(angle = 90)) +\n",
    "theme(plot.title = element_text(color=\"red\", size=24, face=\"bold\"),\n",
    "axis.title.x = element_text(size=15, face=\"bold\"),\n",
    "axis.title.y = element_text(size=15, face=\"bold\"),\n",
    "axis.text.x = element_text(size=14),\n",
    "axis.text.y = element_text(size=14))   # edit labels"
   ]
  },
  {
   "cell_type": "markdown",
   "metadata": {
    "id": "NUV_icbxseqe"
   },
   "source": [
    "Most orders (more than 25,000 orders) contain either 5 or 6 products, and there is an order that contained upto 145 products."
   ]
  },
  {
   "cell_type": "markdown",
   "metadata": {
    "id": "6tNWZurT3Alb"
   },
   "source": [
    "## 3.10 Analysing reordered products"
   ]
  },
  {
   "cell_type": "code",
   "execution_count": 63,
   "metadata": {
    "colab": {
     "base_uri": "https://localhost:8080/",
     "height": 68
    },
    "id": "ksgcDjRH_65R",
    "outputId": "07f2451e-0990-4bb5-b163-1af1951b2666"
   },
   "outputs": [
    {
     "data": {
      "text/plain": [
       "\n",
       " 0  1 \n",
       "41 59 "
      ]
     },
     "metadata": {
      "tags": []
     },
     "output_type": "display_data"
    }
   ],
   "source": [
    "round(prop.table(table(dept_prod_name$reordered))*100)"
   ]
  },
  {
   "cell_type": "code",
   "execution_count": 64,
   "metadata": {
    "id": "uf7cZw1AVWf_"
   },
   "outputs": [],
   "source": [
    "reord <- dept_prod_name %>% group_by(reordered) %>% summarise(count = n()) "
   ]
  },
  {
   "cell_type": "code",
   "execution_count": 65,
   "metadata": {
    "colab": {
     "base_uri": "https://localhost:8080/",
     "height": 497
    },
    "id": "exODZ7imV7oz",
    "outputId": "a80b799c-4492-415d-94d1-69fe15768cd6"
   },
   "outputs": [
    {
     "data": {
      "image/png": "[encoded data removed]",
      "text/plain": [
       "plot without title"
      ]
     },
     "metadata": {
      "image/png": {
       "height": 480,
       "width": 1200
      },
      "tags": []
     },
     "output_type": "display_data"
    }
   ],
   "source": [
    " ggplot(reord, aes(x = \"\", y = count, fill= factor(reordered)))+ geom_bar(width = 1, stat = \"identity\") + coord_polar(\"y\", start=0) "
   ]
  },
  {
   "cell_type": "markdown",
   "metadata": {
    "id": "OU25Wi78AIeg"
   },
   "source": [
    "59% of all products bought were re-ordered."
   ]
  },
  {
   "cell_type": "markdown",
   "metadata": {
    "id": "3sTV7fmwEQjY"
   },
   "source": [
    "## 3.11 What days do new users make orders?\n",
    "To achieve this, I will focus on orders whose order_number is 1. Order number of 1 indicates that it is the user's first time of making an order."
   ]
  },
  {
   "cell_type": "code",
   "execution_count": 66,
   "metadata": {
    "colab": {
     "base_uri": "https://localhost:8080/",
     "height": 314
    },
    "id": "xODqu1RFBaWA",
    "outputId": "1294a825-19df-44dd-c811-05902d789d24"
   },
   "outputs": [
    {
     "data": {
      "text/html": [
       "<table class=\"dataframe\">\n",
       "<caption>A tibble: 7 × 2</caption>\n",
       "<thead>\n",
       "\t<tr><th scope=col>order_dow</th><th scope=col>count</th></tr>\n",
       "\t<tr><th scope=col>&lt;int&gt;</th><th scope=col>&lt;int&gt;</th></tr>\n",
       "</thead>\n",
       "<tbody>\n",
       "\t<tr><td>0</td><td>38517</td></tr>\n",
       "\t<tr><td>1</td><td>34973</td></tr>\n",
       "\t<tr><td>6</td><td>28691</td></tr>\n",
       "\t<tr><td>2</td><td>27861</td></tr>\n",
       "\t<tr><td>5</td><td>26073</td></tr>\n",
       "\t<tr><td>3</td><td>25658</td></tr>\n",
       "\t<tr><td>4</td><td>24436</td></tr>\n",
       "</tbody>\n",
       "</table>\n"
      ],
      "text/latex": [
       "A tibble: 7 × 2\n",
       "\\begin{tabular}{ll}\n",
       " order\\_dow & count\\\\\n",
       " <int> & <int>\\\\\n",
       "\\hline\n",
       "\t 0 & 38517\\\\\n",
       "\t 1 & 34973\\\\\n",
       "\t 6 & 28691\\\\\n",
       "\t 2 & 27861\\\\\n",
       "\t 5 & 26073\\\\\n",
       "\t 3 & 25658\\\\\n",
       "\t 4 & 24436\\\\\n",
       "\\end{tabular}\n"
      ],
      "text/markdown": [
       "\n",
       "A tibble: 7 × 2\n",
       "\n",
       "| order_dow &lt;int&gt; | count &lt;int&gt; |\n",
       "|---|---|\n",
       "| 0 | 38517 |\n",
       "| 1 | 34973 |\n",
       "| 6 | 28691 |\n",
       "| 2 | 27861 |\n",
       "| 5 | 26073 |\n",
       "| 3 | 25658 |\n",
       "| 4 | 24436 |\n",
       "\n"
      ],
      "text/plain": [
       "  order_dow count\n",
       "1 0         38517\n",
       "2 1         34973\n",
       "3 6         28691\n",
       "4 2         27861\n",
       "5 5         26073\n",
       "6 3         25658\n",
       "7 4         24436"
      ]
     },
     "metadata": {
      "tags": []
     },
     "output_type": "display_data"
    }
   ],
   "source": [
    "orders_df %>% filter(order_number == 1) %>% group_by(order_dow) %>% summarise(count = n()) %>% arrange(desc(count))"
   ]
  },
  {
   "cell_type": "markdown",
   "metadata": {
    "id": "SFKwMIkSGmp9"
   },
   "source": [
    "Top 3 days are Sunday, Monday and Saturday."
   ]
  },
  {
   "cell_type": "markdown",
   "metadata": {
    "id": "Crs0scukD2OK"
   },
   "source": [
    "# 4. Market Basket Analysis\n",
    "Often used in the retail industry to help retailers undertand the purchase behaviour of their customers. Market Basket Analysis uses association rule mining to find associations between items that customers place. it is used in features such as the frequently bought together section found in on ecommerce sites. For example if a customer buys a phone, there is high possibility that he or she would buy a phone case. This technique helps retailers to develop marketing strategies to cross sell products and increase revenue."
   ]
  },
  {
   "cell_type": "markdown",
   "metadata": {
    "id": "3jY55unsQpp3"
   },
   "source": [
    "## 4.1 Convert Dataframe to transactional class\n",
    "The first step is to select only relevant columns. Due to computing resources. I will be focusing on a subset of the entire dataset (150,000 records)."
   ]
  },
  {
   "cell_type": "code",
   "execution_count": 79,
   "metadata": {
    "colab": {
     "base_uri": "https://localhost:8080/"
    },
    "id": "XVzDm4PQSC4i",
    "outputId": "e596f56e-26e4-4528-cf09-48e4c0a6913b"
   },
   "outputs": [
    {
     "name": "stderr",
     "output_type": "stream",
     "text": [
      "Selecting by product_name\n",
      "\n"
     ]
    }
   ],
   "source": [
    "trans_df <- dept_prod_name %>% filter(eval_set == 'train') %>% select(order_id, product_name) %>% top_n(150000) #select only required columns"
   ]
  },
  {
   "cell_type": "code",
   "execution_count": 81,
   "metadata": {
    "colab": {
     "base_uri": "https://localhost:8080/",
     "height": 34
    },
    "id": "YJRz2B2FV3-8",
    "outputId": "bdc96c36-5060-4bf1-c344-73f779a7e699"
   },
   "outputs": [
    {
     "data": {
      "text/html": [
       "<style>\n",
       ".list-inline {list-style: none; margin:0; padding: 0}\n",
       ".list-inline>li {display: inline-block}\n",
       ".list-inline>li:not(:last-child)::after {content: \"\\00b7\"; padding: 0 .5ex}\n",
       "</style>\n",
       "<ol class=list-inline><li>150018</li><li>2</li></ol>\n"
      ],
      "text/latex": [
       "\\begin{enumerate*}\n",
       "\\item 150018\n",
       "\\item 2\n",
       "\\end{enumerate*}\n"
      ],
      "text/markdown": [
       "1. 150018\n",
       "2. 2\n",
       "\n",
       "\n"
      ],
      "text/plain": [
       "[1] 150018      2"
      ]
     },
     "metadata": {
      "tags": []
     },
     "output_type": "display_data"
    }
   ],
   "source": [
    "dim(trans_df) # number of records"
   ]
  },
  {
   "cell_type": "code",
   "execution_count": 83,
   "metadata": {
    "colab": {
     "base_uri": "https://localhost:8080/",
     "height": 283
    },
    "id": "NPXgvLKtVII8",
    "outputId": "53e66fa8-4d01-443a-c93b-31161ccec8c0"
   },
   "outputs": [
    {
     "data": {
      "text/html": [
       "<table class=\"dataframe\">\n",
       "<caption>A data.frame: 6 × 2</caption>\n",
       "<thead>\n",
       "\t<tr><th></th><th scope=col>order_id</th><th scope=col>product_name</th></tr>\n",
       "\t<tr><th></th><th scope=col>&lt;int&gt;</th><th scope=col>&lt;fct&gt;</th></tr>\n",
       "</thead>\n",
       "<tbody>\n",
       "\t<tr><th scope=row>1</th><td>1187899</td><td>XL Pick-A-Size Paper Towel Rolls</td></tr>\n",
       "\t<tr><th scope=row>2</th><td>1187899</td><td>Zero Calorie Cola               </td></tr>\n",
       "\t<tr><th scope=row>3</th><td>1492625</td><td>Unsweetened Almondmilk          </td></tr>\n",
       "\t<tr><th scope=row>4</th><td>1492625</td><td>Uncured Slow Cooked Ham         </td></tr>\n",
       "\t<tr><th scope=row>5</th><td>1492625</td><td>Vegetable Lasagna               </td></tr>\n",
       "\t<tr><th scope=row>6</th><td>2196797</td><td>Tamari Gluten Free Soy Sauce    </td></tr>\n",
       "</tbody>\n",
       "</table>\n"
      ],
      "text/latex": [
       "A data.frame: 6 × 2\n",
       "\\begin{tabular}{r|ll}\n",
       "  & order\\_id & product\\_name\\\\\n",
       "  & <int> & <fct>\\\\\n",
       "\\hline\n",
       "\t1 & 1187899 & XL Pick-A-Size Paper Towel Rolls\\\\\n",
       "\t2 & 1187899 & Zero Calorie Cola               \\\\\n",
       "\t3 & 1492625 & Unsweetened Almondmilk          \\\\\n",
       "\t4 & 1492625 & Uncured Slow Cooked Ham         \\\\\n",
       "\t5 & 1492625 & Vegetable Lasagna               \\\\\n",
       "\t6 & 2196797 & Tamari Gluten Free Soy Sauce    \\\\\n",
       "\\end{tabular}\n"
      ],
      "text/markdown": [
       "\n",
       "A data.frame: 6 × 2\n",
       "\n",
       "| <!--/--> | order_id &lt;int&gt; | product_name &lt;fct&gt; |\n",
       "|---|---|---|\n",
       "| 1 | 1187899 | XL Pick-A-Size Paper Towel Rolls |\n",
       "| 2 | 1187899 | Zero Calorie Cola                |\n",
       "| 3 | 1492625 | Unsweetened Almondmilk           |\n",
       "| 4 | 1492625 | Uncured Slow Cooked Ham          |\n",
       "| 5 | 1492625 | Vegetable Lasagna                |\n",
       "| 6 | 2196797 | Tamari Gluten Free Soy Sauce     |\n",
       "\n"
      ],
      "text/plain": [
       "  order_id product_name                    \n",
       "1 1187899  XL Pick-A-Size Paper Towel Rolls\n",
       "2 1187899  Zero Calorie Cola               \n",
       "3 1492625  Unsweetened Almondmilk          \n",
       "4 1492625  Uncured Slow Cooked Ham         \n",
       "5 1492625  Vegetable Lasagna               \n",
       "6 2196797  Tamari Gluten Free Soy Sauce    "
      ]
     },
     "metadata": {
      "tags": []
     },
     "output_type": "display_data"
    }
   ],
   "source": [
    "head(trans_df) # first 6 records"
   ]
  },
  {
   "cell_type": "code",
   "execution_count": 84,
   "metadata": {
    "id": "B8UT4UgBVOMe"
   },
   "outputs": [],
   "source": [
    "trans_df$order_id = factor(trans_df$order_id)    # transform order_id into factor"
   ]
  },
  {
   "cell_type": "code",
   "execution_count": 85,
   "metadata": {
    "id": "YPmn-XBsTAc_"
   },
   "outputs": [],
   "source": [
    "write.csv(trans_df,\"transact150k.csv\", row.names = FALSE) # Export to CSV to be used in part 2"
   ]
  },
  {
   "cell_type": "markdown",
   "metadata": {
    "id": "BytcLUDNlQVS"
   },
   "source": [
    "Check MBAnalysis_Part_2.ipynb for the continuation"
   ]
  }
 ],
 "metadata": {
  "colab": {
   "collapsed_sections": [],
   "name": "MBAnalysis_Part_1.ipynb",
   "provenance": [],
   "toc_visible": true
  },
  "kernelspec": {
   "display_name": "R",
   "language": "R",
   "name": "ir"
  },
  "language_info": {
   "codemirror_mode": "r",
   "file_extension": ".r",
   "mimetype": "text/x-r-source",
   "name": "R",
   "pygments_lexer": "r",
   "version": "3.6.1"
  }
 },
 "nbformat": 4,
 "nbformat_minor": 1
}
